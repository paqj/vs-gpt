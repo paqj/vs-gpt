{
 "cells": [
  {
   "cell_type": "code",
   "execution_count": 1,
   "metadata": {},
   "outputs": [
    {
     "name": "stdout",
     "output_type": "stream",
     "text": [
      "Great choice! Here's a simple recipe for Chicken Tikka Masala, a popular Indian dish:\n",
      "\n",
      "Ingredients:\n",
      "- 1 lb boneless, skinless chicken breasts, cut into bite-sized pieces\n",
      "- 1 cup plain yogurt\n",
      "- 2 tablespoons lemon juice\n",
      "- 2 teaspoons ground cumin\n",
      "- 2 teaspoons paprika\n",
      "- 1 teaspoon ground cinnamon\n",
      "- 1 teaspoon ground turmeric\n",
      "- 1 teaspoon ground coriander\n",
      "- 1 teaspoon cayenne pepper (adjust to taste)\n",
      "- Salt and pepper to taste\n",
      "- 2 tablespoons vegetable oil\n",
      "- 1 onion, chopped\n",
      "- 3 cloves garlic, minced\n",
      "- 1 tablespoon grated ginger\n",
      "- 1 can (14 oz) crushed tomatoes\n",
      "- 1 cup heavy cream\n",
      "- Fresh cilantro, chopped (for garnish)\n",
      "- Cooked rice or naan bread (for serving)\n",
      "\n",
      "Instructions:\n",
      "1. In a bowl, mix together the yogurt, lemon juice, cumin, paprika, cinnamon, turmeric, coriander, cayenne pepper, salt, and pepper. Add the chicken pieces and coat them well with the marinade. Cover and refrigerate for at least 1 hour, or overnight for best results.\n",
      "\n",
      "2. In a large skillet, heat the vegetable oil over medium heat. Add the chopped onion and cook until softened, about 5 minutes. Add the garlic and ginger, and cook for another minute.\n",
      "\n",
      "3. Add the marinated chicken pieces to the skillet, along with any remaining marinade. Cook until the chicken is browned on all sides, about 5-7 minutes.\n",
      "\n",
      "4. Stir in the crushed tomatoes and bring the mixture to a simmer. Cover and cook for about 15-20 minutes, stirring occasionally.\n",
      "\n",
      "5. Stir in the heavy cream and simmer for an additional 10 minutes, or until the chicken is cooked through and the sauce has thickened.\n",
      "\n",
      "6. Taste and adjust seasoning as needed. Serve the Chicken Tikka Masala over cooked rice or with naan bread. Garnish with fresh cilantro.\n",
      "\n",
      "Enjoy your homemade Indian feast!To make this Chicken Tikka Masala recipe vegetarian, we can replace the chicken with a plant-based alternative such as tofu or seitan. Here's how you can adapt the recipe:\n",
      "\n",
      "Ingredients:\n",
      "- 1 lb firm tofu or seitan, cut into bite-sized pieces\n",
      "- 1 cup plain yogurt (use dairy-free yogurt for a vegan option)\n",
      "- 2 tablespoons lemon juice\n",
      "- 2 teaspoons ground cumin\n",
      "- 2 teaspoons paprika\n",
      "- 1 teaspoon ground cinnamon\n",
      "- 1 teaspoon ground turmeric\n",
      "- 1 teaspoon ground coriander\n",
      "- 1 teaspoon cayenne pepper (adjust to taste)\n",
      "- Salt and pepper to taste\n",
      "- 2 tablespoons vegetable oil\n",
      "- 1 onion, chopped\n",
      "- 3 cloves garlic, minced\n",
      "- 1 tablespoon grated ginger\n",
      "- 1 can (14 oz) crushed tomatoes\n",
      "- 1 cup coconut cream (or dairy-free heavy cream alternative)\n",
      "- Fresh cilantro, chopped (for garnish)\n",
      "- Cooked rice or naan bread (for serving)\n",
      "\n",
      "Instructions:\n",
      "1. Follow the same steps for marinating the tofu or seitan as you would for the chicken. Coat the tofu or seitan well with the yogurt and spice marinade, then refrigerate for at least 1 hour.\n",
      "2. When cooking the dish, treat the tofu or seitan similarly to the chicken. Brown the tofu or seitan in the skillet, then proceed with adding the onion, garlic, and ginger.\n",
      "3. Continue with the recipe as instructed, simmering the tofu or seitan in the tomato sauce and finishing with the coconut cream.\n",
      "4. Adjust the seasoning as needed and serve the Vegetarian Tikka Masala over rice or with naan bread, garnished with fresh cilantro.\n",
      "\n",
      "By making these simple swaps, you can enjoy a delicious vegetarian version of Chicken Tikka Masala that stays true to the traditional flavors of the dish. Enjoy your meatless Indian feast!"
     ]
    },
    {
     "data": {
      "text/plain": [
       "AIMessageChunk(content=\"To make this Chicken Tikka Masala recipe vegetarian, we can replace the chicken with a plant-based alternative such as tofu or seitan. Here's how you can adapt the recipe:\\n\\nIngredients:\\n- 1 lb firm tofu or seitan, cut into bite-sized pieces\\n- 1 cup plain yogurt (use dairy-free yogurt for a vegan option)\\n- 2 tablespoons lemon juice\\n- 2 teaspoons ground cumin\\n- 2 teaspoons paprika\\n- 1 teaspoon ground cinnamon\\n- 1 teaspoon ground turmeric\\n- 1 teaspoon ground coriander\\n- 1 teaspoon cayenne pepper (adjust to taste)\\n- Salt and pepper to taste\\n- 2 tablespoons vegetable oil\\n- 1 onion, chopped\\n- 3 cloves garlic, minced\\n- 1 tablespoon grated ginger\\n- 1 can (14 oz) crushed tomatoes\\n- 1 cup coconut cream (or dairy-free heavy cream alternative)\\n- Fresh cilantro, chopped (for garnish)\\n- Cooked rice or naan bread (for serving)\\n\\nInstructions:\\n1. Follow the same steps for marinating the tofu or seitan as you would for the chicken. Coat the tofu or seitan well with the yogurt and spice marinade, then refrigerate for at least 1 hour.\\n2. When cooking the dish, treat the tofu or seitan similarly to the chicken. Brown the tofu or seitan in the skillet, then proceed with adding the onion, garlic, and ginger.\\n3. Continue with the recipe as instructed, simmering the tofu or seitan in the tomato sauce and finishing with the coconut cream.\\n4. Adjust the seasoning as needed and serve the Vegetarian Tikka Masala over rice or with naan bread, garnished with fresh cilantro.\\n\\nBy making these simple swaps, you can enjoy a delicious vegetarian version of Chicken Tikka Masala that stays true to the traditional flavors of the dish. Enjoy your meatless Indian feast!\")"
      ]
     },
     "execution_count": 1,
     "metadata": {},
     "output_type": "execute_result"
    }
   ],
   "source": [
    "from langchain.chat_models import ChatOpenAI\n",
    "from langchain.prompts import ChatPromptTemplate\n",
    "from langchain.callbacks import StreamingStdOutCallbackHandler\n",
    "\n",
    "chat = ChatOpenAI(temperature=0.1, streaming=True, callbacks=[StreamingStdOutCallbackHandler()], model=\"gpt-3.5-turbo\")\n",
    "\n",
    "programming_prompt = ChatPromptTemplate.from_messages([\n",
    "    (\"system\", \"Write a Haiku about\"),\n",
    "    (\"human\", \"About {domain} Language\")\n",
    "])\n",
    "\n",
    "programming_chain = programming_prompt | chat \n",
    "\n",
    "explanation_prompt = ChatPromptTemplate.from_messages([\n",
    "    (\"system\", \"Explain the meaning of the Haiku\"),\n",
    "    (\"human\", \"{haiku}\")\n",
    "])\n",
    "\n",
    "explanation_chain = explanation_prompt | chat \n",
    "\n",
    "final_chain = {\"haiku\": programming_chain} | explanation_chain\n",
    "\n",
    "final_chain.invoke({\n",
    "    \"domain\": \"java\"\n",
    "})\n"
   ]
  },
  {
   "cell_type": "code",
   "execution_count": null,
   "metadata": {},
   "outputs": [],
   "source": []
  }
 ],
 "metadata": {
  "kernelspec": {
   "display_name": "env",
   "language": "python",
   "name": "python3"
  },
  "language_info": {
   "codemirror_mode": {
    "name": "ipython",
    "version": 3
   },
   "file_extension": ".py",
   "mimetype": "text/x-python",
   "name": "python",
   "nbconvert_exporter": "python",
   "pygments_lexer": "ipython3",
   "version": "3.11.7"
  }
 },
 "nbformat": 4,
 "nbformat_minor": 2
}
