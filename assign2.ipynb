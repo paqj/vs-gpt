{
 "cells": [
  {
   "cell_type": "code",
   "execution_count": 1,
   "metadata": {},
   "outputs": [
    {
     "name": "stdout",
     "output_type": "stream",
     "text": [
      "content=\"\\n        Here is what I know:\\n        Director: Todd Phillips\\n        Main Cast: Joaquin Phoenix, Robert De Niro, Zazie Beetz\\n        Budget: Approximately $55-70 million\\n        Box Office Revenue: $1.074 billion (worldwide)\\n        Genre: Psychological Thriller, Drama\\n        Small Synopsis: \\n        Arthur Fleck, a failed stand-up comedian, descends into madness and transforms into the criminal mastermind known as the Joker. Set in Gotham City, the film explores the character's origin story and his descent into chaos and anarchy.\"\n",
      "Tokens Used: 566\n",
      "\tPrompt Tokens: 445\n",
      "\tCompletion Tokens: 121\n",
      "Successful Requests: 1\n",
      "Total Cost (USD): $0.0009095\n"
     ]
    }
   ],
   "source": [
    "from langchain.prompts import ChatPromptTemplate\n",
    "from langchain.prompts.few_shot import FewShotChatMessagePromptTemplate\n",
    "from langchain.chat_models import ChatOpenAI\n",
    "from langchain.callbacks import get_openai_callback\n",
    "\n",
    "\n",
    "chat = ChatOpenAI(\n",
    "    temperature=0.1,\n",
    ")\n",
    "\n",
    "examples = [\n",
    "    {\n",
    "        \"movie\": \"Titanic\",\n",
    "        \"answer\": \"\"\"\n",
    "        Here is what I know:\n",
    "        Director: James Cameron\n",
    "        Main Cast: Leonardo DiCaprio, Kate Winslet\n",
    "        Budget: Approximately $200 million\n",
    "        Box Office Revenue: $2.195 billion (worldwide)\n",
    "        Genre: Romance, Drama, Epic\n",
    "        Small Synopsis: \n",
    "        A young aristocrat, Rose, falls in love with a poor artist, Jack, aboard the ill-fated RMS Titanic during its maiden voyage. Their romance blossoms as they face the tragic sinking of the ship in 1912.\n",
    "        \"\"\",\n",
    "    },\n",
    "    {\n",
    "        \"movie\": \"Avatar\",\n",
    "        \"answer\": \"\"\"\n",
    "        Here is what I know:\n",
    "        Director: James Cameron\n",
    "        Main Cast: Sam Worthington, Zoe Saldana, Sigourney Weaver\n",
    "        Budget: Approximately $237 million\n",
    "        Box Office Revenue: $2.79 billion (worldwide)\n",
    "        Genre: Science Fiction, Action, Adventure\n",
    "        Small Synopsis: \n",
    "        Set in the 22nd century, paralyzed former Marine Jake Sully is sent to the planet Pandora, where he becomes part of the Avatar Program. He immerses himself in the indigenous Na'vi culture but must choose between loyalty to humanity and his newfound love for Pandora.\n",
    "        \"\"\",\n",
    "    },\n",
    "        {\n",
    "        \"movie\": \"Iron Man\",\n",
    "        \"answer\": \"\"\"\n",
    "        Here is what I know:\n",
    "        Director: Jon Favreau\n",
    "        Main Cast: Robert Downey Jr., Gwyneth Paltrow, Jeff Bridges\n",
    "        Budget: Approximately $140 million\n",
    "        Box Office Revenue: $585.2 billion (worldwide)\n",
    "        Genre: Action, Sci-Fi, Adventure\n",
    "        Small Synopsis: \n",
    "        Billionaire Tony Stark, a genius inventor and playboy, is captured by terrorists and forced to build a weapon. Instead, he creates a powered suit of armor to escape. Upon returning home, he refines his armor and becomes the superhero Iron Man, using his technology to fight evil.\n",
    "        \"\"\",\n",
    "    },\n",
    "]\n",
    "\n",
    "example_prompt = ChatPromptTemplate.from_messages(\n",
    "    [\n",
    "        (\"human\", \"What do you know about {movie}?\"),\n",
    "        (\"ai\", \"{answer}\"),\n",
    "    ]\n",
    ")\n",
    "\n",
    "example_prompt = FewShotChatMessagePromptTemplate(\n",
    "    example_prompt=example_prompt,\n",
    "    examples=examples,\n",
    ")\n",
    "\n",
    "final_prompt = ChatPromptTemplate.from_messages(\n",
    "    [\n",
    "        (\"system\", \"You are a movie expert, you give short answers.\"),\n",
    "        example_prompt,\n",
    "        (\"human\", \"What do you know about {movie}?\"),\n",
    "    ]\n",
    ")\n",
    "\n",
    "chain = final_prompt | chat\n",
    "\n",
    "with get_openai_callback() as usage:\n",
    "    response = chain.invoke({\n",
    "        \"movie\": \"Joker\"\n",
    "    })\n",
    "    print(response)  # 호출 결과 출력\n",
    "    print(usage)     # 비용 출력\n",
    "\n"
   ]
  },
  {
   "cell_type": "code",
   "execution_count": null,
   "metadata": {},
   "outputs": [],
   "source": []
  }
 ],
 "metadata": {
  "kernelspec": {
   "display_name": "Python 3.11.7 ('env': venv)",
   "language": "python",
   "name": "python3"
  },
  "language_info": {
   "codemirror_mode": {
    "name": "ipython",
    "version": 3
   },
   "file_extension": ".py",
   "mimetype": "text/x-python",
   "name": "python",
   "nbconvert_exporter": "python",
   "pygments_lexer": "ipython3",
   "version": "3.11.7"
  },
  "orig_nbformat": 4,
  "vscode": {
   "interpreter": {
    "hash": "70585236f12ef80f31f1358e893469014dcc94fcafe381ceb646c68759f78783"
   }
  }
 },
 "nbformat": 4,
 "nbformat_minor": 2
}
