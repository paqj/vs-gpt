{
 "cells": [
  {
   "cell_type": "code",
   "execution_count": 3,
   "metadata": {},
   "outputs": [
    {
     "data": {
      "text/plain": [
       "' in English?\\n\\n## Meaning of potato in English\\n\\nA potato is a starchy tuber that is commonly used as a vegetable. It is native to South America and was first introduced to Europe in the late 16th century. Potatoes are grown in many parts of the world and are a staple food in many countries, particularly in Europe, North America, and South America.\\n\\nPotatoes are usually boiled, baked, fried, or mashed and are often served with meat or other vegetables. They are rich in carbohydrates, fiber, and various vitamins and minerals, making them a nutritious and versatile food.\\n\\nThe term \"potato\" can also refer to the plant from which the tubers are harvested, as well as to the dish or food prepared from the tubers. For example, one might say \"I love potatoes\" to mean that they enjoy eating potatoes in various forms, or \"I\\'m going to plant some potatoes in my garden\" to mean that they plan to grow potatoes from seed potatoes.\\n\\nHere are some common ways to prepare and serve potatoes:\\n\\n* Boiled'"
      ]
     },
     "execution_count": 3,
     "metadata": {},
     "output_type": "execute_result"
    }
   ],
   "source": [
    "from langchain.llms import HuggingFaceHub\n",
    "from langchain.prompts import PromptTemplate\n",
    "\n",
    "\n",
    "# https://huggingface.co/docs/api-inference/detailed_parameters#text-generation-task\n",
    "prompt = PromptTemplate.from_template(\"[INST]What is the meaning of {word}[/INST]\")\n",
    "llm = HuggingFaceHub(\n",
    "    repo_id=\"mistralai/Mistral-7B-Instruct-v0.2\",\n",
    "    model_kwargs={\n",
    "        \"max_new_tokens\": 250,\n",
    "    }\n",
    ")\n",
    "\n",
    "chain = prompt | llm\n",
    "\n",
    "chain.invoke({\"word\": \"potato\"})"
   ]
  },
  {
   "cell_type": "code",
   "execution_count": null,
   "metadata": {},
   "outputs": [],
   "source": []
  }
 ],
 "metadata": {
  "kernelspec": {
   "display_name": "env",
   "language": "python",
   "name": "python3"
  },
  "language_info": {
   "codemirror_mode": {
    "name": "ipython",
    "version": 3
   },
   "file_extension": ".py",
   "mimetype": "text/x-python",
   "name": "python",
   "nbconvert_exporter": "python",
   "pygments_lexer": "ipython3",
   "version": "3.11.7"
  }
 },
 "nbformat": 4,
 "nbformat_minor": 2
}
