{
 "cells": [
  {
   "cell_type": "code",
   "execution_count": 1,
   "metadata": {},
   "outputs": [],
   "source": [
    "# Assistant API(OpenAI)\n",
    "# Agent와 비슷한 기능 -> Langchain 없이 OpenAI Python 패키지로 가능\n",
    "\"\"\"\n",
    "1. Assistant\n",
    " : Tool(Instructino) 과 OpenAI Model 로 조합된 AI Model\n",
    "2. Thread\n",
    " : User와 Assistant가 주고 받는 메시지의 모음\n",
    " : User가 Message를 보내면 Thread에 전달되야 함.\n",
    " : 별도 메모리 관리를 할 것없이 OpenAI가 이를 관리하여 Message들을 Thread에 관리됨(Model의 context memory에 맞도록 history 관리)\n",
    "3. Messages\n",
    " : User Message\n",
    "4. Run \n",
    " : Thread의 내용을 Model을 통해서 실행\n",
    "\"\"\"\n",
    "from langchain.tools import DuckDuckGoSearchResults\n",
    "import yfinance\n",
    "import json\n",
    "\n",
    "\n",
    "def get_ticker(inputs):\n",
    "    ddg = DuckDuckGoSearchResults()\n",
    "    company_name = inputs[\"company_name\"]\n",
    "    return ddg.run(f\"Ticker symbol of {company_name}\")\n",
    "\n",
    "def get_income_statement(inputs):\n",
    "    ticker = inputs[\"ticker\"]\n",
    "    stock = yfinance.Ticker(ticker)\n",
    "    return json.dumps(stock.income_stmt.to_json())\n",
    "\n",
    "def get_balance_sheet(inputs):\n",
    "    ticker = inputs[\"ticker\"]\n",
    "    stock = yfinance.Ticker(ticker)\n",
    "    return json.dumps(stock.balance_sheet.to_json())\n",
    "\n",
    "\n",
    "def get_daily_stock_performance(inputs):\n",
    "    ticker = inputs[\"ticker\"]\n",
    "    stock = yfinance.Ticker(ticker)\n",
    "    return json.dumps(stock.history(period=\"3mo\").to_json())\n",
    "\n",
    "functions_map = {\n",
    "    \"get_ticker\": get_ticker,\n",
    "    \"get_income_statement\": get_income_statement,\n",
    "    \"get_balance_sheet\": get_balance_sheet,\n",
    "    \"get_daily_stock_performance\": get_daily_stock_performance,\n",
    "}\n",
    "\n",
    "functions = [\n",
    "    {\n",
    "        \"type\": \"function\",\n",
    "        \"function\": {\n",
    "            \"name\": \"get_ticker\",\n",
    "            \"description\": \"Given the name of a company returns its ticker symbol\",\n",
    "            \"parameters\": {\n",
    "                \"type\": \"object\",\n",
    "                \"properties\": {\n",
    "                    \"company_name\": {\n",
    "                        \"type\": \"string\",\n",
    "                        \"description\": \"The name of the company\",\n",
    "                    }\n",
    "                },\n",
    "                \"required\": [\"company_name\"],\n",
    "            },\n",
    "        },\n",
    "    },\n",
    "    {\n",
    "        \"type\": \"function\",\n",
    "        \"function\": {\n",
    "            \"name\": \"get_income_statement\",\n",
    "            \"description\": \"Given a ticker symbol (i.e AAPL) returns the company's income statement.\",\n",
    "            \"parameters\": {\n",
    "                \"type\": \"object\",\n",
    "                \"properties\": {\n",
    "                    \"ticker\": {\n",
    "                        \"type\": \"string\",\n",
    "                        \"description\": \"Ticker symbol of the company\",\n",
    "                    },\n",
    "                },\n",
    "                \"required\": [\"ticker\"],\n",
    "            },\n",
    "        },\n",
    "    },\n",
    "    {\n",
    "        \"type\": \"function\",\n",
    "        \"function\": {\n",
    "            \"name\": \"get_balance_sheet\",\n",
    "            \"description\": \"Given a ticker symbol (i.e AAPL) returns the company's balance sheet.\",\n",
    "            \"parameters\": {\n",
    "                \"type\": \"object\",\n",
    "                \"properties\": {\n",
    "                    \"ticker\": {\n",
    "                        \"type\": \"string\",\n",
    "                        \"description\": \"Ticker symbol of the company\",\n",
    "                    },\n",
    "                },\n",
    "                \"required\": [\"ticker\"],\n",
    "            },\n",
    "        },\n",
    "    },\n",
    "    {\n",
    "        \"type\": \"function\",\n",
    "        \"function\": {\n",
    "            \"name\": \"get_daily_stock_performance\",\n",
    "            \"description\": \"Given a ticker symbol (i.e AAPL) returns the performance of the stock for the last 100 days.\",\n",
    "            \"parameters\": {\n",
    "                \"type\": \"object\",\n",
    "                \"properties\": {\n",
    "                    \"ticker\": {\n",
    "                        \"type\": \"string\",\n",
    "                        \"description\": \"Ticker symbol of the company\",\n",
    "                    },\n",
    "                },\n",
    "                \"required\": [\"ticker\"],\n",
    "            },\n",
    "        },\n",
    "    },\n",
    "]\n"
   ]
  },
  {
   "cell_type": "code",
   "execution_count": 2,
   "metadata": {},
   "outputs": [],
   "source": [
    "import openai as client\n",
    "\n",
    "# assistant = client.beta.assistants.create(\n",
    "#     name=\"Investor Assistant\",\n",
    "#     instructions=\"You help users do research on publicly traded companies and you help users decide if they should buy the stock or not.\",\n",
    "#     model=\"gpt-4-1106-preview\", # https://platform.openai.com/playground?mode=assistant : Model List\n",
    "#     tools=functions,\n",
    "# )\n",
    "\n",
    "assistant_id = \"asst_HUHCXk0HEeHfarAzTKrt5f50\""
   ]
  },
  {
   "cell_type": "code",
   "execution_count": 3,
   "metadata": {},
   "outputs": [
    {
     "data": {
      "text/plain": [
       "Thread(id='thread_9KczPqLkubVd9QifPKIBVusi', created_at=1712846058, metadata={}, object='thread')"
      ]
     },
     "execution_count": 3,
     "metadata": {},
     "output_type": "execute_result"
    }
   ],
   "source": [
    "# 1. Thread 생성\n",
    "thread = client.beta.threads.create(\n",
    "    messages=[\n",
    "        {\n",
    "            \"role\": \"user\",\n",
    "            \"content\": \"I want to know if the Salesforce stock is a good buy\",\n",
    "        }\n",
    "    ]\n",
    ")\n",
    "thread"
   ]
  },
  {
   "cell_type": "code",
   "execution_count": 21,
   "metadata": {},
   "outputs": [
    {
     "data": {
      "text/plain": [
       "Run(id='run_beFmhw6BsJirNXKhzf49OBPd', assistant_id='asst_HUHCXk0HEeHfarAzTKrt5f50', cancelled_at=None, completed_at=None, created_at=1712846719, expires_at=1712847319, failed_at=None, file_ids=[], instructions='You help users do research on publicly traded companies and you help users decide if they should buy the stock or not.', last_error=None, metadata={}, model='gpt-4-1106-preview', object='thread.run', required_action=None, started_at=None, status='queued', thread_id='thread_9KczPqLkubVd9QifPKIBVusi', tools=[FunctionTool(function=FunctionDefinition(name='get_ticker', description='Given the name of a company returns its ticker symbol', parameters={'type': 'object', 'properties': {'company_name': {'type': 'string', 'description': 'The name of the company'}}, 'required': ['company_name']}), type='function'), FunctionTool(function=FunctionDefinition(name='get_income_statement', description=\"Given a ticker symbol (i.e AAPL) returns the company's income statement.\", parameters={'type': 'object', 'properties': {'ticker': {'type': 'string', 'description': 'Ticker symbol of the company'}}, 'required': ['ticker']}), type='function'), FunctionTool(function=FunctionDefinition(name='get_balance_sheet', description=\"Given a ticker symbol (i.e AAPL) returns the company's balance sheet.\", parameters={'type': 'object', 'properties': {'ticker': {'type': 'string', 'description': 'Ticker symbol of the company'}}, 'required': ['ticker']}), type='function'), FunctionTool(function=FunctionDefinition(name='get_daily_stock_performance', description='Given a ticker symbol (i.e AAPL) returns the performance of the stock for the last 100 days.', parameters={'type': 'object', 'properties': {'ticker': {'type': 'string', 'description': 'Ticker symbol of the company'}}, 'required': ['ticker']}), type='function')], usage=None, temperature=1.0)"
      ]
     },
     "execution_count": 21,
     "metadata": {},
     "output_type": "execute_result"
    }
   ],
   "source": [
    "# 2. Run 생성\n",
    "run = client.beta.threads.runs.create(\n",
    "    thread_id=thread.id,\n",
    "    assistant_id=assistant_id,\n",
    ")\n",
    "run"
   ]
  },
  {
   "cell_type": "code",
   "execution_count": 6,
   "metadata": {},
   "outputs": [],
   "source": [
    "# Run 실행\n",
    "def get_run(run_id, thread_id):\n",
    "    return client.beta.threads.runs.retrieve(\n",
    "        run_id=run_id,\n",
    "        thread_id=thread_id,\n",
    "    )\n",
    "\n",
    "def send_message(thread_id, content):\n",
    "    return client.beta.threads.messages.create(\n",
    "        thread_id=thread_id, role=\"user\", content=content\n",
    "    )\n",
    "\n",
    "# Message를 입력된 순서대로 보여주게 Reverse\n",
    "def get_messages(thread_id):\n",
    "    messages = client.beta.threads.messages.list(thread_id=thread_id)\n",
    "    messages = list(messages)\n",
    "    messages.reverse()\n",
    "    for message in messages:\n",
    "        # print(message)\n",
    "        print(f\"{message.role}: {message.content[0].text.value}\")\n",
    "\n",
    "# run에 사용할 tool를 찾고 실행\n",
    "def get_tool_outputs(run_id, thread_id):\n",
    "    run = get_run(run_id, thread_id)\n",
    "    outputs = []\n",
    "    for action in run.required_action.submit_tool_outputs.tool_calls:\n",
    "        action_id = action.id\n",
    "        function = action.function\n",
    "        print(f\"Calling function: {function.name} with arg {function.arguments}\")\n",
    "        outputs.append(\n",
    "            {\n",
    "                \"output\": functions_map[function.name](json.loads(function.arguments)),\n",
    "                \"tool_call_id\": action_id,\n",
    "            }\n",
    "        )\n",
    "    return outputs\n",
    "\n",
    "def submit_tool_outputs(run_id, thread_id):\n",
    "    # Output을 Submit\n",
    "    outputs = get_tool_outputs(run_id, thread_id)\n",
    "    return client.beta.threads.runs.submit_tool_outputs(\n",
    "        run_id=run_id, thread_id=thread_id, tool_outputs=outputs\n",
    "    )"
   ]
  },
  {
   "cell_type": "code",
   "execution_count": 10,
   "metadata": {},
   "outputs": [
    {
     "data": {
      "text/plain": [
       "'requires_action'"
      ]
     },
     "execution_count": 10,
     "metadata": {},
     "output_type": "execute_result"
    }
   ],
   "source": [
    "# 3. run 실행 -> next action\n",
    "\"\"\"\n",
    "requires_action - assistant 가 호출하길 바라는 function을 실행시켜 줘야 함.\n",
    "\"\"\"\n",
    "get_run(run.id, thread.id).status"
   ]
  },
  {
   "cell_type": "code",
   "execution_count": 11,
   "metadata": {},
   "outputs": [
    {
     "name": "stdout",
     "output_type": "stream",
     "text": [
      "user: I want to know if the Salesforce stock is a good buy\n"
     ]
    }
   ],
   "source": [
    "# 3-1. message 확인\n",
    "get_messages(thread.id)"
   ]
  },
  {
   "cell_type": "code",
   "execution_count": 12,
   "metadata": {},
   "outputs": [
    {
     "name": "stdout",
     "output_type": "stream",
     "text": [
      "Calling function: get_ticker with arg {\"company_name\":\"Salesforce\"}\n"
     ]
    },
    {
     "data": {
      "text/plain": [
       "Run(id='run_Ie3LbvuOlnSyzdcwSLtsh39K', assistant_id='asst_HUHCXk0HEeHfarAzTKrt5f50', cancelled_at=None, completed_at=None, created_at=1712846072, expires_at=1712846672, failed_at=None, file_ids=[], instructions='You help users do research on publicly traded companies and you help users decide if they should buy the stock or not.', last_error=None, metadata={}, model='gpt-4-1106-preview', object='thread.run', required_action=None, started_at=1712846072, status='queued', thread_id='thread_9KczPqLkubVd9QifPKIBVusi', tools=[FunctionTool(function=FunctionDefinition(name='get_ticker', description='Given the name of a company returns its ticker symbol', parameters={'type': 'object', 'properties': {'company_name': {'type': 'string', 'description': 'The name of the company'}}, 'required': ['company_name']}), type='function'), FunctionTool(function=FunctionDefinition(name='get_income_statement', description=\"Given a ticker symbol (i.e AAPL) returns the company's income statement.\", parameters={'type': 'object', 'properties': {'ticker': {'type': 'string', 'description': 'Ticker symbol of the company'}}, 'required': ['ticker']}), type='function'), FunctionTool(function=FunctionDefinition(name='get_balance_sheet', description=\"Given a ticker symbol (i.e AAPL) returns the company's balance sheet.\", parameters={'type': 'object', 'properties': {'ticker': {'type': 'string', 'description': 'Ticker symbol of the company'}}, 'required': ['ticker']}), type='function'), FunctionTool(function=FunctionDefinition(name='get_daily_stock_performance', description='Given a ticker symbol (i.e AAPL) returns the performance of the stock for the last 100 days.', parameters={'type': 'object', 'properties': {'ticker': {'type': 'string', 'description': 'Ticker symbol of the company'}}, 'required': ['ticker']}), type='function')], usage=None, temperature=1.0)"
      ]
     },
     "execution_count": 12,
     "metadata": {},
     "output_type": "execute_result"
    }
   ],
   "source": [
    "# 4. Next Action\n",
    "submit_tool_outputs(run.id, thread.id)"
   ]
  },
  {
   "cell_type": "code",
   "execution_count": 13,
   "metadata": {},
   "outputs": [
    {
     "data": {
      "text/plain": [
       "'requires_action'"
      ]
     },
     "execution_count": 13,
     "metadata": {},
     "output_type": "execute_result"
    }
   ],
   "source": [
    "get_run(run.id, thread.id).status"
   ]
  },
  {
   "cell_type": "code",
   "execution_count": 14,
   "metadata": {},
   "outputs": [
    {
     "name": "stdout",
     "output_type": "stream",
     "text": [
      "user: I want to know if the Salesforce stock is a good buy\n"
     ]
    }
   ],
   "source": [
    "get_messages(thread.id)"
   ]
  },
  {
   "cell_type": "code",
   "execution_count": null,
   "metadata": {},
   "outputs": [],
   "source": [
    "# 24.04.11 버전에서는 Playground에서 첫 Thread를 줬을 때 부터 Requires Action 상태가 됨.(get_ticker)\n",
    "# send_message(thread.id, \"Please go ahead!\")"
   ]
  },
  {
   "cell_type": "code",
   "execution_count": 15,
   "metadata": {},
   "outputs": [
    {
     "name": "stdout",
     "output_type": "stream",
     "text": [
      "Calling function: get_income_statement with arg {\"ticker\": \"CRM\"}\n",
      "Calling function: get_balance_sheet with arg {\"ticker\": \"CRM\"}\n",
      "Calling function: get_daily_stock_performance with arg {\"ticker\": \"CRM\"}\n"
     ]
    },
    {
     "data": {
      "text/plain": [
       "Run(id='run_Ie3LbvuOlnSyzdcwSLtsh39K', assistant_id='asst_HUHCXk0HEeHfarAzTKrt5f50', cancelled_at=None, completed_at=None, created_at=1712846072, expires_at=1712846672, failed_at=None, file_ids=[], instructions='You help users do research on publicly traded companies and you help users decide if they should buy the stock or not.', last_error=None, metadata={}, model='gpt-4-1106-preview', object='thread.run', required_action=None, started_at=1712846089, status='queued', thread_id='thread_9KczPqLkubVd9QifPKIBVusi', tools=[FunctionTool(function=FunctionDefinition(name='get_ticker', description='Given the name of a company returns its ticker symbol', parameters={'type': 'object', 'properties': {'company_name': {'type': 'string', 'description': 'The name of the company'}}, 'required': ['company_name']}), type='function'), FunctionTool(function=FunctionDefinition(name='get_income_statement', description=\"Given a ticker symbol (i.e AAPL) returns the company's income statement.\", parameters={'type': 'object', 'properties': {'ticker': {'type': 'string', 'description': 'Ticker symbol of the company'}}, 'required': ['ticker']}), type='function'), FunctionTool(function=FunctionDefinition(name='get_balance_sheet', description=\"Given a ticker symbol (i.e AAPL) returns the company's balance sheet.\", parameters={'type': 'object', 'properties': {'ticker': {'type': 'string', 'description': 'Ticker symbol of the company'}}, 'required': ['ticker']}), type='function'), FunctionTool(function=FunctionDefinition(name='get_daily_stock_performance', description='Given a ticker symbol (i.e AAPL) returns the performance of the stock for the last 100 days.', parameters={'type': 'object', 'properties': {'ticker': {'type': 'string', 'description': 'Ticker symbol of the company'}}, 'required': ['ticker']}), type='function')], usage=None, temperature=1.0)"
      ]
     },
     "execution_count": 15,
     "metadata": {},
     "output_type": "execute_result"
    }
   ],
   "source": [
    "submit_tool_outputs(run.id, thread.id)"
   ]
  },
  {
   "cell_type": "code",
   "execution_count": 17,
   "metadata": {},
   "outputs": [
    {
     "data": {
      "text/plain": [
       "'completed'"
      ]
     },
     "execution_count": 17,
     "metadata": {},
     "output_type": "execute_result"
    }
   ],
   "source": [
    "get_run(run.id, thread.id).status"
   ]
  },
  {
   "cell_type": "code",
   "execution_count": 18,
   "metadata": {},
   "outputs": [
    {
     "name": "stdout",
     "output_type": "stream",
     "text": [
      "user: I want to know if the Salesforce stock is a good buy\n",
      "assistant: I have gathered some fundamental and recent stock performance data on Salesforce (CRM) to help assess whether it may be a good buy. Please remember that investment decisions should take into account a variety of factors, including your individual circumstances, investment goals, and risk tolerance. Here is the data:\n",
      "\n",
      "Income Statement Highlights (most recent data):\n",
      "- Total Revenue: \\$34.857 billion\n",
      "- Net Income: \\$4.136 billion\n",
      "- Gross Profit: \\$26.316 billion\n",
      "- Research & Development: \\$4.906 billion\n",
      "- Selling, General & Administrative: \\$14.52 billion\n",
      "\n",
      "Balance Sheet Highlights (most recent data):\n",
      "- Total Assets: \\$99.823 billion\n",
      "- Total Liabilities: \\$40.177 billion\n",
      "- Total Equity: \\$59.646 billion\n",
      "- Total Debt: \\$12.588 billion\n",
      "- Working Capital: \\$2.443 billion\n",
      "\n",
      "Stock Performance Over the Last 100 Days:\n",
      "- The stock has seen fluctuations with highs and lows, like most stocks in the market. Overall, without exact percentage changes, it's difficult to determine the trend from the provided data.\n",
      "\n",
      "Based on this information, you might consider the following:\n",
      "1. **Revenue and Profitability**: Salesforce is generating significant revenue and net income. This suggests a healthy business model with the potential for further growth.\n",
      "\n",
      "2. **Balance Sheet Strength**: The company's assets greatly outweigh its liabilities, and it has a substantial equity base, which indicates robust financial health.\n",
      "\n",
      "3. **Debt Levels**: Salesforce has a moderate level of debt relative to its equity. It's essential to consider the cost of this debt and the company's ability to service it.\n",
      "\n",
      "4. **Research, Development, and SG&A Expenses**: Salesforce is investing heavily in R&D and has substantial sales, general, and administrative expenses. These investments could drive future growth but also represent substantial recurring costs.\n",
      "\n",
      "5. **Stock Performance**: It's important to review the stock's performance trend for insights on market sentiment and potential volatility.\n",
      "\n",
      "Remember that good investment decisions should be based on a comprehensive analysis that includes not only these highlights but also other qualitative factors, market trends, competitor performance, and broader economic indicators. If necessary, consider consulting with a financial advisor for personalized advice tailored to your specific situation before making any investment decisions.\n"
     ]
    }
   ],
   "source": [
    "get_messages(thread.id)"
   ]
  },
  {
   "cell_type": "code",
   "execution_count": 19,
   "metadata": {},
   "outputs": [
    {
     "data": {
      "text/plain": [
       "Message(id='msg_XscOFYOS1Ijq5MrOyDiISLvU', assistant_id=None, completed_at=None, content=[TextContentBlock(text=Text(annotations=[], value='Now I want to know if the Cloudflare is a good buy.'), type='text')], created_at=1712846645, file_ids=[], incomplete_at=None, incomplete_details=None, metadata={}, object='thread.message', role='user', run_id=None, status=None, thread_id='thread_9KczPqLkubVd9QifPKIBVusi')"
      ]
     },
     "execution_count": 19,
     "metadata": {},
     "output_type": "execute_result"
    }
   ],
   "source": [
    "send_message(thread.id, \"Now I want to know if the Cloudflare is a good buy.\")"
   ]
  },
  {
   "cell_type": "code",
   "execution_count": 20,
   "metadata": {},
   "outputs": [
    {
     "name": "stdout",
     "output_type": "stream",
     "text": [
      "user: I want to know if the Salesforce stock is a good buy\n",
      "assistant: I have gathered some fundamental and recent stock performance data on Salesforce (CRM) to help assess whether it may be a good buy. Please remember that investment decisions should take into account a variety of factors, including your individual circumstances, investment goals, and risk tolerance. Here is the data:\n",
      "\n",
      "Income Statement Highlights (most recent data):\n",
      "- Total Revenue: \\$34.857 billion\n",
      "- Net Income: \\$4.136 billion\n",
      "- Gross Profit: \\$26.316 billion\n",
      "- Research & Development: \\$4.906 billion\n",
      "- Selling, General & Administrative: \\$14.52 billion\n",
      "\n",
      "Balance Sheet Highlights (most recent data):\n",
      "- Total Assets: \\$99.823 billion\n",
      "- Total Liabilities: \\$40.177 billion\n",
      "- Total Equity: \\$59.646 billion\n",
      "- Total Debt: \\$12.588 billion\n",
      "- Working Capital: \\$2.443 billion\n",
      "\n",
      "Stock Performance Over the Last 100 Days:\n",
      "- The stock has seen fluctuations with highs and lows, like most stocks in the market. Overall, without exact percentage changes, it's difficult to determine the trend from the provided data.\n",
      "\n",
      "Based on this information, you might consider the following:\n",
      "1. **Revenue and Profitability**: Salesforce is generating significant revenue and net income. This suggests a healthy business model with the potential for further growth.\n",
      "\n",
      "2. **Balance Sheet Strength**: The company's assets greatly outweigh its liabilities, and it has a substantial equity base, which indicates robust financial health.\n",
      "\n",
      "3. **Debt Levels**: Salesforce has a moderate level of debt relative to its equity. It's essential to consider the cost of this debt and the company's ability to service it.\n",
      "\n",
      "4. **Research, Development, and SG&A Expenses**: Salesforce is investing heavily in R&D and has substantial sales, general, and administrative expenses. These investments could drive future growth but also represent substantial recurring costs.\n",
      "\n",
      "5. **Stock Performance**: It's important to review the stock's performance trend for insights on market sentiment and potential volatility.\n",
      "\n",
      "Remember that good investment decisions should be based on a comprehensive analysis that includes not only these highlights but also other qualitative factors, market trends, competitor performance, and broader economic indicators. If necessary, consider consulting with a financial advisor for personalized advice tailored to your specific situation before making any investment decisions.\n",
      "user: Now I want to know if the Cloudflare is a good buy.\n"
     ]
    }
   ],
   "source": [
    "get_messages(thread.id)"
   ]
  },
  {
   "cell_type": "code",
   "execution_count": 22,
   "metadata": {},
   "outputs": [
    {
     "data": {
      "text/plain": [
       "'requires_action'"
      ]
     },
     "execution_count": 22,
     "metadata": {},
     "output_type": "execute_result"
    }
   ],
   "source": [
    "# run을 다시 생성 하고, \n",
    "get_run(run.id, thread.id).status"
   ]
  },
  {
   "cell_type": "code",
   "execution_count": 23,
   "metadata": {},
   "outputs": [
    {
     "name": "stdout",
     "output_type": "stream",
     "text": [
      "Calling function: get_ticker with arg {\"company_name\":\"Cloudflare\"}\n"
     ]
    },
    {
     "data": {
      "text/plain": [
       "[{'output': \"[snippet: Real-time Cloudflare stock price (NYSE: NET) plus other valuable data points like day range, year, stock analyst insights, related news and more., title: NET Stock - Cloudflare Stock Price - NYSE: NET | Morningstar, link: https://www.morningstar.com/stocks/xnys/net/quote], [snippet: At Cloudflare, Inc., we promise to treat your data with respect and will not share your information with any third party. You can unsubscribe to any of the investor alerts you are subscribed to by visiting the 'unsubscribe' section below. If you experience any issues with this process, please contact us for further assistance., title: Cloudflare, Inc. - Stock Quote & Chart, link: https://cloudflare.net/stock-information/Stock-Quote--Chart/], [snippet: Stock analysis for Cloudflare Inc (NET:New York) including stock price, stock chart, company news, key statistics, fundamentals and company profile., title: NET: Cloudflare Inc Stock Price Quote - New York - Bloomberg, link: https://www.bloomberg.com/quote/NET:US], [snippet: Get a real-time Cloudflare, Inc. (NET) stock price quote with breaking news, financials, statistics, charts and more. Get a real-time Cloudflare, Inc. (NET) stock price quote with breaking news, financials, statistics, charts and more. ... Ticker Symbol NET. Full Company Profile. Financial Performance. In 2023, Cloudflare's revenue was $1.30 ..., title: Cloudflare, Inc. (NET) Stock Price, Quote & News - Stock Analysis, link: https://stockanalysis.com/stocks/net/]\",\n",
       "  'tool_call_id': 'call_TzDduZQU49CFlUcWDTSh3iE1'}]"
      ]
     },
     "execution_count": 23,
     "metadata": {},
     "output_type": "execute_result"
    }
   ],
   "source": [
    "# requires_action에서 필요한 function(tool) 확인\n",
    "get_tool_outputs(run.id, thread.id)"
   ]
  },
  {
   "cell_type": "code",
   "execution_count": 24,
   "metadata": {},
   "outputs": [
    {
     "name": "stdout",
     "output_type": "stream",
     "text": [
      "Calling function: get_ticker with arg {\"company_name\":\"Cloudflare\"}\n"
     ]
    },
    {
     "data": {
      "text/plain": [
       "Run(id='run_beFmhw6BsJirNXKhzf49OBPd', assistant_id='asst_HUHCXk0HEeHfarAzTKrt5f50', cancelled_at=None, completed_at=None, created_at=1712846719, expires_at=1712847319, failed_at=None, file_ids=[], instructions='You help users do research on publicly traded companies and you help users decide if they should buy the stock or not.', last_error=None, metadata={}, model='gpt-4-1106-preview', object='thread.run', required_action=None, started_at=1712846720, status='queued', thread_id='thread_9KczPqLkubVd9QifPKIBVusi', tools=[FunctionTool(function=FunctionDefinition(name='get_ticker', description='Given the name of a company returns its ticker symbol', parameters={'type': 'object', 'properties': {'company_name': {'type': 'string', 'description': 'The name of the company'}}, 'required': ['company_name']}), type='function'), FunctionTool(function=FunctionDefinition(name='get_income_statement', description=\"Given a ticker symbol (i.e AAPL) returns the company's income statement.\", parameters={'type': 'object', 'properties': {'ticker': {'type': 'string', 'description': 'Ticker symbol of the company'}}, 'required': ['ticker']}), type='function'), FunctionTool(function=FunctionDefinition(name='get_balance_sheet', description=\"Given a ticker symbol (i.e AAPL) returns the company's balance sheet.\", parameters={'type': 'object', 'properties': {'ticker': {'type': 'string', 'description': 'Ticker symbol of the company'}}, 'required': ['ticker']}), type='function'), FunctionTool(function=FunctionDefinition(name='get_daily_stock_performance', description='Given a ticker symbol (i.e AAPL) returns the performance of the stock for the last 100 days.', parameters={'type': 'object', 'properties': {'ticker': {'type': 'string', 'description': 'Ticker symbol of the company'}}, 'required': ['ticker']}), type='function')], usage=None, temperature=1.0)"
      ]
     },
     "execution_count": 24,
     "metadata": {},
     "output_type": "execute_result"
    }
   ],
   "source": [
    "# Tool 실행\n",
    "submit_tool_outputs(run.id, thread.id)"
   ]
  },
  {
   "cell_type": "code",
   "execution_count": 25,
   "metadata": {},
   "outputs": [
    {
     "data": {
      "text/plain": [
       "'requires_action'"
      ]
     },
     "execution_count": 25,
     "metadata": {},
     "output_type": "execute_result"
    }
   ],
   "source": [
    "get_run(run.id, thread.id).status"
   ]
  },
  {
   "cell_type": "code",
   "execution_count": 26,
   "metadata": {},
   "outputs": [
    {
     "name": "stdout",
     "output_type": "stream",
     "text": [
      "Calling function: get_income_statement with arg {\"ticker\": \"NET\"}\n",
      "Calling function: get_balance_sheet with arg {\"ticker\": \"NET\"}\n",
      "Calling function: get_daily_stock_performance with arg {\"ticker\": \"NET\"}\n"
     ]
    },
    {
     "data": {
      "text/plain": [
       "[{'output': '\"{\\\\\"1703980800000\\\\\":{\\\\\"Tax Effect Of Unusual Items\\\\\":-10563000.0,\\\\\"Tax Rate For Calcs\\\\\":0.21,\\\\\"Normalized EBITDA\\\\\":14130000.0,\\\\\"Total Unusual Items\\\\\":-50300000.0,\\\\\"Total Unusual Items Excluding Goodwill\\\\\":-50300000.0,\\\\\"Net Income From Continuing Operation Net Minority Interest\\\\\":-183949000.0,\\\\\"Reconciled Depreciation\\\\\":135820000.0,\\\\\"Reconciled Cost Of Revenue\\\\\":307005000.0,\\\\\"EBITDA\\\\\":-36170000.0,\\\\\"EBIT\\\\\":-171990000.0,\\\\\"Net Interest Income\\\\\":62295000.0,\\\\\"Interest Expense\\\\\":5872000.0,\\\\\"Interest Income\\\\\":68167000.0,\\\\\"Normalized Income\\\\\":-144212000.0,\\\\\"Net Income From Continuing And Discontinued Operation\\\\\":-183949000.0,\\\\\"Total Expenses\\\\\":1482230000.0,\\\\\"Total Operating Income As Reported\\\\\":-185485000.0,\\\\\"Diluted Average Shares\\\\\":333656000.0,\\\\\"Basic Average Shares\\\\\":333656000.0,\\\\\"Diluted EPS\\\\\":-0.55,\\\\\"Basic EPS\\\\\":-0.55,\\\\\"Diluted NI Availto Com Stockholders\\\\\":-183949000.0,\\\\\"Net Income Common Stockholders\\\\\":-183949000.0,\\\\\"Net Income\\\\\":-183949000.0,\\\\\"Net Income Including Noncontrolling Interests\\\\\":-183949000.0,\\\\\"Net Income Continuous Operations\\\\\":-183949000.0,\\\\\"Tax Provision\\\\\":6087000.0,\\\\\"Pretax Income\\\\\":-177862000.0,\\\\\"Other Income Expense\\\\\":-54672000.0,\\\\\"Other Non Operating Income Expenses\\\\\":-4372000.0,\\\\\"Special Income Charges\\\\\":-50300000.0,\\\\\"Other Special Charges\\\\\":50300000.0,\\\\\"Net Non Operating Interest Income Expense\\\\\":62295000.0,\\\\\"Interest Expense Non Operating\\\\\":5872000.0,\\\\\"Interest Income Non Operating\\\\\":68167000.0,\\\\\"Operating Income\\\\\":-185485000.0,\\\\\"Operating Expense\\\\\":1175225000.0,\\\\\"Research And Development\\\\\":358143000.0,\\\\\"Selling General And Administration\\\\\":817082000.0,\\\\\"Selling And Marketing Expense\\\\\":599117000.0,\\\\\"General And Administrative Expense\\\\\":217965000.0,\\\\\"Other Gand A\\\\\":217965000.0,\\\\\"Gross Profit\\\\\":989740000.0,\\\\\"Cost Of Revenue\\\\\":307005000.0,\\\\\"Total Revenue\\\\\":1296745000.0,\\\\\"Operating Revenue\\\\\":1296745000.0},\\\\\"1672444800000\\\\\":{\\\\\"Tax Effect Of Unusual Items\\\\\":0.0,\\\\\"Tax Rate For Calcs\\\\\":0.21,\\\\\"Normalized EBITDA\\\\\":-83414000.0,\\\\\"Total Unusual Items\\\\\":0.0,\\\\\"Total Unusual Items Excluding Goodwill\\\\\":0.0,\\\\\"Net Income From Continuing Operation Net Minority Interest\\\\\":-193381000.0,\\\\\"Reconciled Depreciation\\\\\":102335000.0,\\\\\"Reconciled Cost Of Revenue\\\\\":232610000.0,\\\\\"EBITDA\\\\\":-83414000.0,\\\\\"EBIT\\\\\":-185749000.0,\\\\\"Net Interest Income\\\\\":9893000.0,\\\\\"Interest Expense\\\\\":4984000.0,\\\\\"Interest Income\\\\\":14877000.0,\\\\\"Normalized Income\\\\\":-193381000.0,\\\\\"Net Income From Continuing And Discontinued Operation\\\\\":-193381000.0,\\\\\"Total Expenses\\\\\":1176444000.0,\\\\\"Total Operating Income As Reported\\\\\":-201203000.0,\\\\\"Diluted Average Shares\\\\\":326332000.0,\\\\\"Basic Average Shares\\\\\":326332000.0,\\\\\"Diluted EPS\\\\\":-0.59,\\\\\"Basic EPS\\\\\":-0.59,\\\\\"Diluted NI Availto Com Stockholders\\\\\":-193381000.0,\\\\\"Net Income Common Stockholders\\\\\":-193381000.0,\\\\\"Net Income\\\\\":-193381000.0,\\\\\"Net Income Including Noncontrolling Interests\\\\\":-193381000.0,\\\\\"Net Income Continuous Operations\\\\\":-193381000.0,\\\\\"Tax Provision\\\\\":2648000.0,\\\\\"Pretax Income\\\\\":-190733000.0,\\\\\"Other Income Expense\\\\\":577000.0,\\\\\"Other Non Operating Income Expenses\\\\\":577000.0,\\\\\"Special Income Charges\\\\\":0.0,\\\\\"Other Special Charges\\\\\":null,\\\\\"Net Non Operating Interest Income Expense\\\\\":9893000.0,\\\\\"Interest Expense Non Operating\\\\\":4984000.0,\\\\\"Interest Income Non Operating\\\\\":14877000.0,\\\\\"Operating Income\\\\\":-201203000.0,\\\\\"Operating Expense\\\\\":943834000.0,\\\\\"Research And Development\\\\\":298303000.0,\\\\\"Selling General And Administration\\\\\":645531000.0,\\\\\"Selling And Marketing Expense\\\\\":465762000.0,\\\\\"General And Administrative Expense\\\\\":179769000.0,\\\\\"Other Gand A\\\\\":179769000.0,\\\\\"Gross Profit\\\\\":742631000.0,\\\\\"Cost Of Revenue\\\\\":232610000.0,\\\\\"Total Revenue\\\\\":975241000.0,\\\\\"Operating Revenue\\\\\":975241000.0},\\\\\"1640908800000\\\\\":{\\\\\"Tax Effect Of Unusual Items\\\\\":-19503180.0,\\\\\"Tax Rate For Calcs\\\\\":0.27,\\\\\"Normalized EBITDA\\\\\":-59901000.0,\\\\\"Total Unusual Items\\\\\":-72234000.0,\\\\\"Total Unusual Items Excluding Goodwill\\\\\":-72234000.0,\\\\\"Net Income From Continuing Operation Net Minority Interest\\\\\":-260309000.0,\\\\\"Reconciled Depreciation\\\\\":66607000.0,\\\\\"Reconciled Cost Of Revenue\\\\\":147134000.0,\\\\\"EBITDA\\\\\":-132135000.0,\\\\\"EBIT\\\\\":-198742000.0,\\\\\"Net Interest Income\\\\\":-47264000.0,\\\\\"Interest Expense\\\\\":49234000.0,\\\\\"Interest Income\\\\\":1970000.0,\\\\\"Normalized Income\\\\\":-207578180.0,\\\\\"Net Income From Continuing And Discontinued Operation\\\\\":-260309000.0,\\\\\"Total Expenses\\\\\":784110000.0,\\\\\"Total Operating Income As Reported\\\\\":-127684000.0,\\\\\"Diluted Average Shares\\\\\":312321000.0,\\\\\"Basic Average Shares\\\\\":312321000.0,\\\\\"Diluted EPS\\\\\":-0.83,\\\\\"Basic EPS\\\\\":-0.83,\\\\\"Diluted NI Availto Com Stockholders\\\\\":-260309000.0,\\\\\"Net Income Common Stockholders\\\\\":-260309000.0,\\\\\"Net Income\\\\\":-260309000.0,\\\\\"Net Income Including Noncontrolling Interests\\\\\":-260309000.0,\\\\\"Net Income Continuous Operations\\\\\":-260309000.0,\\\\\"Tax Provision\\\\\":12333000.0,\\\\\"Pretax Income\\\\\":-247976000.0,\\\\\"Other Income Expense\\\\\":-73028000.0,\\\\\"Other Non Operating Income Expenses\\\\\":-794000.0,\\\\\"Special Income Charges\\\\\":-72234000.0,\\\\\"Other Special Charges\\\\\":72234000.0,\\\\\"Net Non Operating Interest Income Expense\\\\\":-47264000.0,\\\\\"Interest Expense Non Operating\\\\\":49234000.0,\\\\\"Interest Income Non Operating\\\\\":1970000.0,\\\\\"Operating Income\\\\\":-127684000.0,\\\\\"Operating Expense\\\\\":636976000.0,\\\\\"Research And Development\\\\\":189408000.0,\\\\\"Selling General And Administration\\\\\":447568000.0,\\\\\"Selling And Marketing Expense\\\\\":328065000.0,\\\\\"General And Administrative Expense\\\\\":119503000.0,\\\\\"Other Gand A\\\\\":119503000.0,\\\\\"Gross Profit\\\\\":509292000.0,\\\\\"Cost Of Revenue\\\\\":147134000.0,\\\\\"Total Revenue\\\\\":656426000.0,\\\\\"Operating Revenue\\\\\":656426000.0},\\\\\"1609372800000\\\\\":{\\\\\"Tax Effect Of Unusual Items\\\\\":0.0,\\\\\"Tax Rate For Calcs\\\\\":0.045,\\\\\"Normalized EBITDA\\\\\":-50622000.0,\\\\\"Total Unusual Items\\\\\":0.0,\\\\\"Total Unusual Items Excluding Goodwill\\\\\":0.0,\\\\\"Net Income From Continuing Operation Net Minority Interest\\\\\":-119370000.0,\\\\\"Reconciled Depreciation\\\\\":49387000.0,\\\\\"Reconciled Cost Of Revenue\\\\\":101055000.0,\\\\\"EBITDA\\\\\":-50622000.0,\\\\\"EBIT\\\\\":-100009000.0,\\\\\"Net Interest Income\\\\\":-18376000.0,\\\\\"Interest Expense\\\\\":24964000.0,\\\\\"Interest Income\\\\\":6588000.0,\\\\\"Normalized Income\\\\\":-119370000.0,\\\\\"Net Income From Continuing And Discontinued Operation\\\\\":-119370000.0,\\\\\"Total Expenses\\\\\":537827000.0,\\\\\"Total Operating Income As Reported\\\\\":-106768000.0,\\\\\"Diluted Average Shares\\\\\":299774000.0,\\\\\"Basic Average Shares\\\\\":299774000.0,\\\\\"Diluted EPS\\\\\":-0.4,\\\\\"Basic EPS\\\\\":-0.4,\\\\\"Diluted NI Availto Com Stockholders\\\\\":-119370000.0,\\\\\"Net Income Common Stockholders\\\\\":-119370000.0,\\\\\"Net Income\\\\\":-119370000.0,\\\\\"Net Income Including Noncontrolling Interests\\\\\":-119370000.0,\\\\\"Net Income Continuous Operations\\\\\":-119370000.0,\\\\\"Tax Provision\\\\\":-5603000.0,\\\\\"Pretax Income\\\\\":-124973000.0,\\\\\"Other Income Expense\\\\\":171000.0,\\\\\"Other Non Operating Income Expenses\\\\\":171000.0,\\\\\"Special Income Charges\\\\\":0.0,\\\\\"Other Special Charges\\\\\":null,\\\\\"Net Non Operating Interest Income Expense\\\\\":-18376000.0,\\\\\"Interest Expense Non Operating\\\\\":24964000.0,\\\\\"Interest Income Non Operating\\\\\":6588000.0,\\\\\"Operating Income\\\\\":-106768000.0,\\\\\"Operating Expense\\\\\":436772000.0,\\\\\"Research And Development\\\\\":127144000.0,\\\\\"Selling General And Administration\\\\\":309628000.0,\\\\\"Selling And Marketing Expense\\\\\":217875000.0,\\\\\"General And Administrative Expense\\\\\":91753000.0,\\\\\"Other Gand A\\\\\":91753000.0,\\\\\"Gross Profit\\\\\":330004000.0,\\\\\"Cost Of Revenue\\\\\":101055000.0,\\\\\"Total Revenue\\\\\":431059000.0,\\\\\"Operating Revenue\\\\\":431059000.0}}\"',\n",
       "  'tool_call_id': 'call_Yg0K9VVWgBibVuFT1zQtoe7B'},\n",
       " {'output': '\"{\\\\\"1703980800000\\\\\":{\\\\\"Treasury Shares Number\\\\\":0.0,\\\\\"Ordinary Shares Number\\\\\":337532000.0,\\\\\"Share Issued\\\\\":337532000.0,\\\\\"Net Debt\\\\\":1196498000.0,\\\\\"Total Debt\\\\\":1435203000.0,\\\\\"Tangible Book Value\\\\\":595436000.0,\\\\\"Invested Capital\\\\\":2046409000.0,\\\\\"Working Capital\\\\\":1415993000.0,\\\\\"Net Tangible Assets\\\\\":595436000.0,\\\\\"Capital Lease Obligations\\\\\":151841000.0,\\\\\"Common Stock Equity\\\\\":763047000.0,\\\\\"Total Capitalization\\\\\":2046409000.0,\\\\\"Total Equity Gross Minority Interest\\\\\":763047000.0,\\\\\"Stockholders Equity\\\\\":763047000.0,\\\\\"Other Equity Interest\\\\\":null,\\\\\"Gains Losses Not Affecting Retained Earnings\\\\\":1984000.0,\\\\\"Other Equity Adjustments\\\\\":1984000.0,\\\\\"Retained Earnings\\\\\":-1023840000.0,\\\\\"Additional Paid In Capital\\\\\":1784566000.0,\\\\\"Capital Stock\\\\\":337000.0,\\\\\"Common Stock\\\\\":337000.0,\\\\\"Total Liabilities Net Minority Interest\\\\\":1996720000.0,\\\\\"Total Non Current Liabilities Net Minority Interest\\\\\":1429636000.0,\\\\\"Other Non Current Liabilities\\\\\":15540000.0,\\\\\"Tradeand Other Payables Non Current\\\\\":null,\\\\\"Non Current Deferred Liabilities\\\\\":17244000.0,\\\\\"Non Current Deferred Revenue\\\\\":17244000.0,\\\\\"Long Term Debt And Capital Lease Obligation\\\\\":1396852000.0,\\\\\"Long Term Capital Lease Obligation\\\\\":113490000.0,\\\\\"Long Term Debt\\\\\":1283362000.0,\\\\\"Current Liabilities\\\\\":567084000.0,\\\\\"Other Current Liabilities\\\\\":null,\\\\\"Current Deferred Liabilities\\\\\":347608000.0,\\\\\"Current Deferred Revenue\\\\\":347608000.0,\\\\\"Current Debt And Capital Lease Obligation\\\\\":38351000.0,\\\\\"Current Capital Lease Obligation\\\\\":38351000.0,\\\\\"Current Debt\\\\\":null,\\\\\"Other Current Borrowings\\\\\":null,\\\\\"Pensionand Other Post Retirement Benefit Plans Current\\\\\":63801000.0,\\\\\"Payables And Accrued Expenses\\\\\":117324000.0,\\\\\"Current Accrued Expenses\\\\\":63597000.0,\\\\\"Payables\\\\\":53727000.0,\\\\\"Accounts Payable\\\\\":53727000.0,\\\\\"Total Assets\\\\\":2759767000.0,\\\\\"Total Non Current Assets\\\\\":776690000.0,\\\\\"Other Non Current Assets\\\\\":14474000.0,\\\\\"Non Current Deferred Assets\\\\\":133236000.0,\\\\\"Goodwill And Other Intangible Assets\\\\\":167611000.0,\\\\\"Other Intangible Assets\\\\\":19564000.0,\\\\\"Goodwill\\\\\":148047000.0,\\\\\"Net PPE\\\\\":461369000.0,\\\\\"Accumulated Depreciation\\\\\":-218480000.0,\\\\\"Gross PPE\\\\\":679849000.0,\\\\\"Leases\\\\\":42984000.0,\\\\\"Construction In Progress\\\\\":45557000.0,\\\\\"Other Properties\\\\\":469677000.0,\\\\\"Machinery Furniture Equipment\\\\\":121631000.0,\\\\\"Buildings And Improvements\\\\\":null,\\\\\"Properties\\\\\":0.0,\\\\\"Current Assets\\\\\":1983077000.0,\\\\\"Other Current Assets\\\\\":47502000.0,\\\\\"Restricted Cash\\\\\":2522000.0,\\\\\"Prepaid Assets\\\\\":null,\\\\\"Receivables\\\\\":259309000.0,\\\\\"Other Receivables\\\\\":11041000.0,\\\\\"Accounts Receivable\\\\\":248268000.0,\\\\\"Allowance For Doubtful Accounts Receivable\\\\\":-5996000.0,\\\\\"Gross Accounts Receivable\\\\\":254264000.0,\\\\\"Cash Cash Equivalents And Short Term Investments\\\\\":1673744000.0,\\\\\"Other Short Term Investments\\\\\":1586880000.0,\\\\\"Cash And Cash Equivalents\\\\\":86864000.0,\\\\\"Cash Equivalents\\\\\":40035000.0,\\\\\"Cash Financial\\\\\":46829000.0},\\\\\"1672444800000\\\\\":{\\\\\"Treasury Shares Number\\\\\":null,\\\\\"Ordinary Shares Number\\\\\":330086000.0,\\\\\"Share Issued\\\\\":330086000.0,\\\\\"Net Debt\\\\\":1232014000.0,\\\\\"Total Debt\\\\\":1577091000.0,\\\\\"Tangible Book Value\\\\\":443434000.0,\\\\\"Invested Capital\\\\\":2060156000.0,\\\\\"Working Capital\\\\\":1490014000.0,\\\\\"Net Tangible Assets\\\\\":443434000.0,\\\\\"Capital Lease Obligations\\\\\":140899000.0,\\\\\"Common Stock Equity\\\\\":623964000.0,\\\\\"Total Capitalization\\\\\":2060156000.0,\\\\\"Total Equity Gross Minority Interest\\\\\":623964000.0,\\\\\"Stockholders Equity\\\\\":623964000.0,\\\\\"Other Equity Interest\\\\\":null,\\\\\"Gains Losses Not Affecting Retained Earnings\\\\\":-11896000.0,\\\\\"Other Equity Adjustments\\\\\":-11896000.0,\\\\\"Retained Earnings\\\\\":-839891000.0,\\\\\"Additional Paid In Capital\\\\\":1475423000.0,\\\\\"Capital Stock\\\\\":328000.0,\\\\\"Common Stock\\\\\":328000.0,\\\\\"Total Liabilities Net Minority Interest\\\\\":1963944000.0,\\\\\"Total Non Current Liabilities Net Minority Interest\\\\\":1566074000.0,\\\\\"Other Non Current Liabilities\\\\\":10526000.0,\\\\\"Tradeand Other Payables Non Current\\\\\":null,\\\\\"Non Current Deferred Liabilities\\\\\":11732000.0,\\\\\"Non Current Deferred Revenue\\\\\":11732000.0,\\\\\"Long Term Debt And Capital Lease Obligation\\\\\":1543816000.0,\\\\\"Long Term Capital Lease Obligation\\\\\":107624000.0,\\\\\"Long Term Debt\\\\\":1436192000.0,\\\\\"Current Liabilities\\\\\":397870000.0,\\\\\"Other Current Liabilities\\\\\":1902000.0,\\\\\"Current Deferred Liabilities\\\\\":218647000.0,\\\\\"Current Deferred Revenue\\\\\":218647000.0,\\\\\"Current Debt And Capital Lease Obligation\\\\\":33275000.0,\\\\\"Current Capital Lease Obligation\\\\\":33275000.0,\\\\\"Current Debt\\\\\":null,\\\\\"Other Current Borrowings\\\\\":null,\\\\\"Pensionand Other Post Retirement Benefit Plans Current\\\\\":42014000.0,\\\\\"Payables And Accrued Expenses\\\\\":103934000.0,\\\\\"Current Accrued Expenses\\\\\":68327000.0,\\\\\"Payables\\\\\":35607000.0,\\\\\"Accounts Payable\\\\\":35607000.0,\\\\\"Total Assets\\\\\":2587908000.0,\\\\\"Total Non Current Assets\\\\\":700024000.0,\\\\\"Other Non Current Assets\\\\\":7389000.0,\\\\\"Non Current Deferred Assets\\\\\":93145000.0,\\\\\"Goodwill And Other Intangible Assets\\\\\":180530000.0,\\\\\"Other Intangible Assets\\\\\":32483000.0,\\\\\"Goodwill\\\\\":148047000.0,\\\\\"Net PPE\\\\\":418960000.0,\\\\\"Accumulated Depreciation\\\\\":-178901000.0,\\\\\"Gross PPE\\\\\":597861000.0,\\\\\"Leases\\\\\":20392000.0,\\\\\"Construction In Progress\\\\\":72827000.0,\\\\\"Other Properties\\\\\":373015000.0,\\\\\"Machinery Furniture Equipment\\\\\":131627000.0,\\\\\"Buildings And Improvements\\\\\":null,\\\\\"Properties\\\\\":0.0,\\\\\"Current Assets\\\\\":1887884000.0,\\\\\"Other Current Assets\\\\\":70556000.0,\\\\\"Restricted Cash\\\\\":10555000.0,\\\\\"Prepaid Assets\\\\\":null,\\\\\"Receivables\\\\\":156836000.0,\\\\\"Other Receivables\\\\\":8292000.0,\\\\\"Accounts Receivable\\\\\":148544000.0,\\\\\"Allowance For Doubtful Accounts Receivable\\\\\":-3134000.0,\\\\\"Gross Accounts Receivable\\\\\":151678000.0,\\\\\"Cash Cash Equivalents And Short Term Investments\\\\\":1649937000.0,\\\\\"Other Short Term Investments\\\\\":1445759000.0,\\\\\"Cash And Cash Equivalents\\\\\":204178000.0,\\\\\"Cash Equivalents\\\\\":127014000.0,\\\\\"Cash Financial\\\\\":77164000.0},\\\\\"1640908800000\\\\\":{\\\\\"Treasury Shares Number\\\\\":null,\\\\\"Ordinary Shares Number\\\\\":323612000.0,\\\\\"Share Issued\\\\\":323612000.0,\\\\\"Net Debt\\\\\":845217000.0,\\\\\"Total Debt\\\\\":1293206000.0,\\\\\"Tangible Book Value\\\\\":791014000.0,\\\\\"Invested Capital\\\\\":1974792000.0,\\\\\"Working Capital\\\\\":1667291000.0,\\\\\"Net Tangible Assets\\\\\":791014000.0,\\\\\"Capital Lease Obligations\\\\\":134212000.0,\\\\\"Common Stock Equity\\\\\":815798000.0,\\\\\"Total Capitalization\\\\\":1962675000.0,\\\\\"Total Equity Gross Minority Interest\\\\\":815798000.0,\\\\\"Stockholders Equity\\\\\":815798000.0,\\\\\"Other Equity Interest\\\\\":4439000.0,\\\\\"Gains Losses Not Affecting Retained Earnings\\\\\":-2645000.0,\\\\\"Other Equity Adjustments\\\\\":-2645000.0,\\\\\"Retained Earnings\\\\\":-680829000.0,\\\\\"Additional Paid In Capital\\\\\":1494512000.0,\\\\\"Capital Stock\\\\\":321000.0,\\\\\"Common Stock\\\\\":321000.0,\\\\\"Total Liabilities Net Minority Interest\\\\\":1556273000.0,\\\\\"Total Non Current Liabilities Net Minority Interest\\\\\":1267708000.0,\\\\\"Other Non Current Liabilities\\\\\":7114000.0,\\\\\"Tradeand Other Payables Non Current\\\\\":null,\\\\\"Non Current Deferred Liabilities\\\\\":4680000.0,\\\\\"Non Current Deferred Revenue\\\\\":4680000.0,\\\\\"Long Term Debt And Capital Lease Obligation\\\\\":1255914000.0,\\\\\"Long Term Capital Lease Obligation\\\\\":109037000.0,\\\\\"Long Term Debt\\\\\":1146877000.0,\\\\\"Current Liabilities\\\\\":288565000.0,\\\\\"Other Current Liabilities\\\\\":4651000.0,\\\\\"Current Deferred Liabilities\\\\\":116546000.0,\\\\\"Current Deferred Revenue\\\\\":116546000.0,\\\\\"Current Debt And Capital Lease Obligation\\\\\":37292000.0,\\\\\"Current Capital Lease Obligation\\\\\":25175000.0,\\\\\"Current Debt\\\\\":12117000.0,\\\\\"Other Current Borrowings\\\\\":12117000.0,\\\\\"Pensionand Other Post Retirement Benefit Plans Current\\\\\":65905000.0,\\\\\"Payables And Accrued Expenses\\\\\":64171000.0,\\\\\"Current Accrued Expenses\\\\\":38085000.0,\\\\\"Payables\\\\\":26086000.0,\\\\\"Accounts Payable\\\\\":26086000.0,\\\\\"Total Assets\\\\\":2372071000.0,\\\\\"Total Non Current Assets\\\\\":416215000.0,\\\\\"Other Non Current Assets\\\\\":7061000.0,\\\\\"Non Current Deferred Assets\\\\\":70320000.0,\\\\\"Goodwill And Other Intangible Assets\\\\\":24784000.0,\\\\\"Other Intangible Assets\\\\\":1254000.0,\\\\\"Goodwill\\\\\":23530000.0,\\\\\"Net PPE\\\\\":314050000.0,\\\\\"Accumulated Depreciation\\\\\":-120213000.0,\\\\\"Gross PPE\\\\\":434263000.0,\\\\\"Leases\\\\\":12892000.0,\\\\\"Construction In Progress\\\\\":41424000.0,\\\\\"Other Properties\\\\\":282206000.0,\\\\\"Machinery Furniture Equipment\\\\\":97741000.0,\\\\\"Buildings And Improvements\\\\\":null,\\\\\"Properties\\\\\":0.0,\\\\\"Current Assets\\\\\":1955856000.0,\\\\\"Other Current Assets\\\\\":29433000.0,\\\\\"Restricted Cash\\\\\":2958000.0,\\\\\"Prepaid Assets\\\\\":29433000.0,\\\\\"Receivables\\\\\":101622000.0,\\\\\"Other Receivables\\\\\":6079000.0,\\\\\"Accounts Receivable\\\\\":95543000.0,\\\\\"Allowance For Doubtful Accounts Receivable\\\\\":-2644000.0,\\\\\"Gross Accounts Receivable\\\\\":98187000.0,\\\\\"Cash Cash Equivalents And Short Term Investments\\\\\":1821843000.0,\\\\\"Other Short Term Investments\\\\\":1508066000.0,\\\\\"Cash And Cash Equivalents\\\\\":313777000.0,\\\\\"Cash Equivalents\\\\\":313777000.0,\\\\\"Cash Financial\\\\\":64021000.0},\\\\\"1609372800000\\\\\":{\\\\\"Treasury Shares Number\\\\\":null,\\\\\"Ordinary Shares Number\\\\\":308640000.0,\\\\\"Share Issued\\\\\":308640000.0,\\\\\"Net Debt\\\\\":274380000.0,\\\\\"Total Debt\\\\\":428301000.0,\\\\\"Tangible Book Value\\\\\":796973000.0,\\\\\"Invested Capital\\\\\":1200215000.0,\\\\\"Working Capital\\\\\":988577000.0,\\\\\"Net Tangible Assets\\\\\":796973000.0,\\\\\"Capital Lease Obligations\\\\\":45026000.0,\\\\\"Common Stock Equity\\\\\":816940000.0,\\\\\"Total Capitalization\\\\\":1200215000.0,\\\\\"Total Equity Gross Minority Interest\\\\\":816940000.0,\\\\\"Stockholders Equity\\\\\":816940000.0,\\\\\"Other Equity Interest\\\\\":null,\\\\\"Gains Losses Not Affecting Retained Earnings\\\\\":163000.0,\\\\\"Other Equity Adjustments\\\\\":163000.0,\\\\\"Retained Earnings\\\\\":-420520000.0,\\\\\"Additional Paid In Capital\\\\\":1236993000.0,\\\\\"Capital Stock\\\\\":304000.0,\\\\\"Common Stock\\\\\":304000.0,\\\\\"Total Liabilities Net Minority Interest\\\\\":563711000.0,\\\\\"Total Non Current Liabilities Net Minority Interest\\\\\":422334000.0,\\\\\"Other Non Current Liabilities\\\\\":9859000.0,\\\\\"Tradeand Other Payables Non Current\\\\\":7033000.0,\\\\\"Non Current Deferred Liabilities\\\\\":1891000.0,\\\\\"Non Current Deferred Revenue\\\\\":1891000.0,\\\\\"Long Term Debt And Capital Lease Obligation\\\\\":410584000.0,\\\\\"Long Term Capital Lease Obligation\\\\\":27309000.0,\\\\\"Long Term Debt\\\\\":383275000.0,\\\\\"Current Liabilities\\\\\":141377000.0,\\\\\"Other Current Liabilities\\\\\":8603000.0,\\\\\"Current Deferred Liabilities\\\\\":54945000.0,\\\\\"Current Deferred Revenue\\\\\":54945000.0,\\\\\"Current Debt And Capital Lease Obligation\\\\\":17717000.0,\\\\\"Current Capital Lease Obligation\\\\\":17717000.0,\\\\\"Current Debt\\\\\":null,\\\\\"Other Current Borrowings\\\\\":null,\\\\\"Pensionand Other Post Retirement Benefit Plans Current\\\\\":25410000.0,\\\\\"Payables And Accrued Expenses\\\\\":34702000.0,\\\\\"Current Accrued Expenses\\\\\":20217000.0,\\\\\"Payables\\\\\":14485000.0,\\\\\"Accounts Payable\\\\\":14485000.0,\\\\\"Total Assets\\\\\":1380651000.0,\\\\\"Total Non Current Assets\\\\\":250697000.0,\\\\\"Other Non Current Assets\\\\\":19718000.0,\\\\\"Non Current Deferred Assets\\\\\":44176000.0,\\\\\"Goodwill And Other Intangible Assets\\\\\":19967000.0,\\\\\"Other Intangible Assets\\\\\":2800000.0,\\\\\"Goodwill\\\\\":17167000.0,\\\\\"Net PPE\\\\\":166836000.0,\\\\\"Accumulated Depreciation\\\\\":-82608000.0,\\\\\"Gross PPE\\\\\":249444000.0,\\\\\"Leases\\\\\":10686000.0,\\\\\"Construction In Progress\\\\\":11242000.0,\\\\\"Other Properties\\\\\":152566000.0,\\\\\"Machinery Furniture Equipment\\\\\":74950000.0,\\\\\"Buildings And Improvements\\\\\":0.0,\\\\\"Properties\\\\\":0.0,\\\\\"Current Assets\\\\\":1129954000.0,\\\\\"Other Current Assets\\\\\":10295000.0,\\\\\"Restricted Cash\\\\\":2591000.0,\\\\\"Prepaid Assets\\\\\":28230000.0,\\\\\"Receivables\\\\\":67037000.0,\\\\\"Other Receivables\\\\\":3538000.0,\\\\\"Accounts Receivable\\\\\":63499000.0,\\\\\"Allowance For Doubtful Accounts Receivable\\\\\":-1703000.0,\\\\\"Gross Accounts Receivable\\\\\":65202000.0,\\\\\"Cash Cash Equivalents And Short Term Investments\\\\\":1032096000.0,\\\\\"Other Short Term Investments\\\\\":923201000.0,\\\\\"Cash And Cash Equivalents\\\\\":108895000.0,\\\\\"Cash Equivalents\\\\\":89372000.0,\\\\\"Cash Financial\\\\\":19523000.0}}\"',\n",
       "  'tool_call_id': 'call_7CuFZAQrsK4nJjzkoxpsXj7m'},\n",
       " {'output': '\"{\\\\\"Open\\\\\":{\\\\\"1704949200000\\\\\":80.8099975586,\\\\\"1705035600000\\\\\":81.0,\\\\\"1705381200000\\\\\":78.4599990845,\\\\\"1705467600000\\\\\":77.4000015259,\\\\\"1705554000000\\\\\":78.7600021362,\\\\\"1705640400000\\\\\":78.6200027466,\\\\\"1705899600000\\\\\":83.8799972534,\\\\\"1705986000000\\\\\":84.9700012207,\\\\\"1706072400000\\\\\":85.3700027466,\\\\\"1706158800000\\\\\":83.0299987793,\\\\\"1706245200000\\\\\":81.2399978638,\\\\\"1706504400000\\\\\":80.2200012207,\\\\\"1706590800000\\\\\":84.2399978638,\\\\\"1706677200000\\\\\":81.6200027466,\\\\\"1706763600000\\\\\":79.9199981689,\\\\\"1706850000000\\\\\":79.5400009155,\\\\\"1707109200000\\\\\":81.7699966431,\\\\\"1707195600000\\\\\":80.8600006104,\\\\\"1707282000000\\\\\":81.9800033569,\\\\\"1707368400000\\\\\":83.75,\\\\\"1707454800000\\\\\":110.0999984741,\\\\\"1707714000000\\\\\":106.7949981689,\\\\\"1707800400000\\\\\":99.9100036621,\\\\\"1707886800000\\\\\":101.8700027466,\\\\\"1707973200000\\\\\":104.5,\\\\\"1708059600000\\\\\":101.3199996948,\\\\\"1708405200000\\\\\":98.0,\\\\\"1708491600000\\\\\":93.8899993896,\\\\\"1708578000000\\\\\":99.4599990845,\\\\\"1708664400000\\\\\":100.0,\\\\\"1708923600000\\\\\":98.7099990845,\\\\\"1709010000000\\\\\":100.5500030518,\\\\\"1709096400000\\\\\":97.3000030518,\\\\\"1709182800000\\\\\":97.6699981689,\\\\\"1709269200000\\\\\":98.2799987793,\\\\\"1709528400000\\\\\":99.9000015259,\\\\\"1709614800000\\\\\":99.0599975586,\\\\\"1709701200000\\\\\":98.7300033569,\\\\\"1709787600000\\\\\":98.4199981689,\\\\\"1709874000000\\\\\":101.2200012207,\\\\\"1710129600000\\\\\":96.7600021362,\\\\\"1710216000000\\\\\":97.4700012207,\\\\\"1710302400000\\\\\":96.3300018311,\\\\\"1710388800000\\\\\":96.0500030518,\\\\\"1710475200000\\\\\":93.1500015259,\\\\\"1710734400000\\\\\":92.9599990845,\\\\\"1710820800000\\\\\":93.1800003052,\\\\\"1710907200000\\\\\":95.3099975586,\\\\\"1710993600000\\\\\":100.0,\\\\\"1711080000000\\\\\":96.0999984741,\\\\\"1711339200000\\\\\":95.7900009155,\\\\\"1711425600000\\\\\":97.2600021362,\\\\\"1711512000000\\\\\":99.5299987793,\\\\\"1711598400000\\\\\":96.0999984741,\\\\\"1711944000000\\\\\":97.1600036621,\\\\\"1712030400000\\\\\":92.9100036621,\\\\\"1712116800000\\\\\":94.0,\\\\\"1712203200000\\\\\":95.0,\\\\\"1712289600000\\\\\":94.0,\\\\\"1712548800000\\\\\":96.5999984741,\\\\\"1712635200000\\\\\":96.0,\\\\\"1712721600000\\\\\":93.3700027466,\\\\\"1712808000000\\\\\":96.0},\\\\\"High\\\\\":{\\\\\"1704949200000\\\\\":81.8820037842,\\\\\"1705035600000\\\\\":81.5899963379,\\\\\"1705381200000\\\\\":79.5299987793,\\\\\"1705467600000\\\\\":77.4000015259,\\\\\"1705554000000\\\\\":79.6829986572,\\\\\"1705640400000\\\\\":81.3700027466,\\\\\"1705899600000\\\\\":87.1699981689,\\\\\"1705986000000\\\\\":85.6399993896,\\\\\"1706072400000\\\\\":86.2399978638,\\\\\"1706158800000\\\\\":83.6060028076,\\\\\"1706245200000\\\\\":82.5,\\\\\"1706504400000\\\\\":84.3199996948,\\\\\"1706590800000\\\\\":84.5500030518,\\\\\"1706677200000\\\\\":82.6100006104,\\\\\"1706763600000\\\\\":80.75,\\\\\"1706850000000\\\\\":83.3899993896,\\\\\"1707109200000\\\\\":82.1900024414,\\\\\"1707195600000\\\\\":82.2399978638,\\\\\"1707282000000\\\\\":83.9300003052,\\\\\"1707368400000\\\\\":91.0800018311,\\\\\"1707454800000\\\\\":116.0,\\\\\"1707714000000\\\\\":109.8300018311,\\\\\"1707800400000\\\\\":102.8300018311,\\\\\"1707886800000\\\\\":104.5,\\\\\"1707973200000\\\\\":104.5,\\\\\"1708059600000\\\\\":101.8000030518,\\\\\"1708405200000\\\\\":98.3000030518,\\\\\"1708491600000\\\\\":95.9800033569,\\\\\"1708578000000\\\\\":99.9300003052,\\\\\"1708664400000\\\\\":101.6600036621,\\\\\"1708923600000\\\\\":100.3000030518,\\\\\"1709010000000\\\\\":102.3000030518,\\\\\"1709096400000\\\\\":98.1800003052,\\\\\"1709182800000\\\\\":99.5699996948,\\\\\"1709269200000\\\\\":101.8499984741,\\\\\"1709528400000\\\\\":101.2300033569,\\\\\"1709614800000\\\\\":99.2200012207,\\\\\"1709701200000\\\\\":99.3600006104,\\\\\"1709787600000\\\\\":101.9800033569,\\\\\"1709874000000\\\\\":104.0199966431,\\\\\"1710129600000\\\\\":98.3990020752,\\\\\"1710216000000\\\\\":98.3899993896,\\\\\"1710302400000\\\\\":98.0500030518,\\\\\"1710388800000\\\\\":96.8600006104,\\\\\"1710475200000\\\\\":93.6800003052,\\\\\"1710734400000\\\\\":95.7419967651,\\\\\"1710820800000\\\\\":95.5400009155,\\\\\"1710907200000\\\\\":98.4199981689,\\\\\"1710993600000\\\\\":100.9000015259,\\\\\"1711080000000\\\\\":96.8000030518,\\\\\"1711339200000\\\\\":97.0,\\\\\"1711425600000\\\\\":100.2799987793,\\\\\"1711512000000\\\\\":100.7699966431,\\\\\"1711598400000\\\\\":97.6699981689,\\\\\"1711944000000\\\\\":97.8899993896,\\\\\"1712030400000\\\\\":95.4850006104,\\\\\"1712116800000\\\\\":95.8499984741,\\\\\"1712203200000\\\\\":97.1299972534,\\\\\"1712289600000\\\\\":97.3000030518,\\\\\"1712548800000\\\\\":96.7649993896,\\\\\"1712635200000\\\\\":97.3690032959,\\\\\"1712721600000\\\\\":95.9000015259,\\\\\"1712808000000\\\\\":96.0100021362},\\\\\"Low\\\\\":{\\\\\"1704949200000\\\\\":78.1200027466,\\\\\"1705035600000\\\\\":79.1200027466,\\\\\"1705381200000\\\\\":77.0899963379,\\\\\"1705467600000\\\\\":74.3700027466,\\\\\"1705554000000\\\\\":76.6299972534,\\\\\"1705640400000\\\\\":77.9100036621,\\\\\"1705899600000\\\\\":83.5400009155,\\\\\"1705986000000\\\\\":83.3499984741,\\\\\"1706072400000\\\\\":82.3000030518,\\\\\"1706158800000\\\\\":81.2600021362,\\\\\"1706245200000\\\\\":79.8000030518,\\\\\"1706504400000\\\\\":80.1600036621,\\\\\"1706590800000\\\\\":82.2699966431,\\\\\"1706677200000\\\\\":79.0500030518,\\\\\"1706763600000\\\\\":78.1449966431,\\\\\"1706850000000\\\\\":78.1399993896,\\\\\"1707109200000\\\\\":79.1100006104,\\\\\"1707195600000\\\\\":79.5899963379,\\\\\"1707282000000\\\\\":80.0149993896,\\\\\"1707368400000\\\\\":82.9000015259,\\\\\"1707454800000\\\\\":105.0100021362,\\\\\"1707714000000\\\\\":104.1900024414,\\\\\"1707800400000\\\\\":97.6299972534,\\\\\"1707886800000\\\\\":99.4199981689,\\\\\"1707973200000\\\\\":99.4300003052,\\\\\"1708059600000\\\\\":97.71900177,\\\\\"1708405200000\\\\\":94.0599975586,\\\\\"1708491600000\\\\\":93.4000015259,\\\\\"1708578000000\\\\\":97.4000015259,\\\\\"1708664400000\\\\\":97.1399993896,\\\\\"1708923600000\\\\\":97.827003479,\\\\\"1709010000000\\\\\":97.9000015259,\\\\\"1709096400000\\\\\":95.7399978638,\\\\\"1709182800000\\\\\":96.7200012207,\\\\\"1709269200000\\\\\":97.1100006104,\\\\\"1709528400000\\\\\":97.4800033569,\\\\\"1709614800000\\\\\":93.8199996948,\\\\\"1709701200000\\\\\":95.7649993896,\\\\\"1709787600000\\\\\":97.6600036621,\\\\\"1709874000000\\\\\":97.2699966431,\\\\\"1710129600000\\\\\":95.2099990845,\\\\\"1710216000000\\\\\":95.3799972534,\\\\\"1710302400000\\\\\":95.5999984741,\\\\\"1710388800000\\\\\":92.6699981689,\\\\\"1710475200000\\\\\":90.8000030518,\\\\\"1710734400000\\\\\":92.0899963379,\\\\\"1710820800000\\\\\":91.8499984741,\\\\\"1710907200000\\\\\":94.6699981689,\\\\\"1710993600000\\\\\":96.3199996948,\\\\\"1711080000000\\\\\":94.7699966431,\\\\\"1711339200000\\\\\":95.3560028076,\\\\\"1711425600000\\\\\":97.0,\\\\\"1711512000000\\\\\":95.0599975586,\\\\\"1711598400000\\\\\":96.0999984741,\\\\\"1711944000000\\\\\":94.9400024414,\\\\\"1712030400000\\\\\":91.2649993896,\\\\\"1712116800000\\\\\":93.5699996948,\\\\\"1712203200000\\\\\":93.1999969482,\\\\\"1712289600000\\\\\":92.9400024414,\\\\\"1712548800000\\\\\":94.2659988403,\\\\\"1712635200000\\\\\":94.7549972534,\\\\\"1712721600000\\\\\":93.2750015259,\\\\\"1712808000000\\\\\":94.0330963135},\\\\\"Close\\\\\":{\\\\\"1704949200000\\\\\":80.8199996948,\\\\\"1705035600000\\\\\":79.3700027466,\\\\\"1705381200000\\\\\":78.4499969482,\\\\\"1705467600000\\\\\":77.0699996948,\\\\\"1705554000000\\\\\":77.9599990845,\\\\\"1705640400000\\\\\":81.3499984741,\\\\\"1705899600000\\\\\":84.6800003052,\\\\\"1705986000000\\\\\":83.9300003052,\\\\\"1706072400000\\\\\":82.3300018311,\\\\\"1706158800000\\\\\":81.8600006104,\\\\\"1706245200000\\\\\":80.1800003052,\\\\\"1706504400000\\\\\":84.3000030518,\\\\\"1706590800000\\\\\":82.9599990845,\\\\\"1706677200000\\\\\":79.0500030518,\\\\\"1706763600000\\\\\":79.5899963379,\\\\\"1706850000000\\\\\":82.6500015259,\\\\\"1707109200000\\\\\":80.8199996948,\\\\\"1707195600000\\\\\":81.5899963379,\\\\\"1707282000000\\\\\":83.3499984741,\\\\\"1707368400000\\\\\":90.3099975586,\\\\\"1707454800000\\\\\":107.9199981689,\\\\\"1707714000000\\\\\":105.6200027466,\\\\\"1707800400000\\\\\":99.8799972534,\\\\\"1707886800000\\\\\":104.3700027466,\\\\\"1707973200000\\\\\":101.2200012207,\\\\\"1708059600000\\\\\":98.5199966431,\\\\\"1708405200000\\\\\":97.9899978638,\\\\\"1708491600000\\\\\":95.0899963379,\\\\\"1708578000000\\\\\":99.4700012207,\\\\\"1708664400000\\\\\":98.4499969482,\\\\\"1708923600000\\\\\":99.0800018311,\\\\\"1709010000000\\\\\":98.25,\\\\\"1709096400000\\\\\":97.4800033569,\\\\\"1709182800000\\\\\":98.5400009155,\\\\\"1709269200000\\\\\":99.9199981689,\\\\\"1709528400000\\\\\":100.8799972534,\\\\\"1709614800000\\\\\":95.9700012207,\\\\\"1709701200000\\\\\":97.4899978638,\\\\\"1709787600000\\\\\":100.75,\\\\\"1709874000000\\\\\":97.9899978638,\\\\\"1710129600000\\\\\":97.0599975586,\\\\\"1710216000000\\\\\":96.75,\\\\\"1710302400000\\\\\":95.9000015259,\\\\\"1710388800000\\\\\":94.2099990845,\\\\\"1710475200000\\\\\":91.5999984741,\\\\\"1710734400000\\\\\":94.6399993896,\\\\\"1710820800000\\\\\":95.1699981689,\\\\\"1710907200000\\\\\":97.9800033569,\\\\\"1710993600000\\\\\":96.4100036621,\\\\\"1711080000000\\\\\":96.5699996948,\\\\\"1711339200000\\\\\":96.0800018311,\\\\\"1711425600000\\\\\":99.0699996948,\\\\\"1711512000000\\\\\":96.5500030518,\\\\\"1711598400000\\\\\":96.8300018311,\\\\\"1711944000000\\\\\":95.6600036621,\\\\\"1712030400000\\\\\":94.9700012207,\\\\\"1712116800000\\\\\":94.6699981689,\\\\\"1712203200000\\\\\":93.25,\\\\\"1712289600000\\\\\":96.1600036621,\\\\\"1712548800000\\\\\":95.3300018311,\\\\\"1712635200000\\\\\":97.0,\\\\\"1712721600000\\\\\":94.8300018311,\\\\\"1712808000000\\\\\":94.5800018311},\\\\\"Volume\\\\\":{\\\\\"1704949200000\\\\\":3256800,\\\\\"1705035600000\\\\\":1741900,\\\\\"1705381200000\\\\\":2790900,\\\\\"1705467600000\\\\\":3572600,\\\\\"1705554000000\\\\\":2484100,\\\\\"1705640400000\\\\\":3239100,\\\\\"1705899600000\\\\\":4441600,\\\\\"1705986000000\\\\\":2187800,\\\\\"1706072400000\\\\\":2453200,\\\\\"1706158800000\\\\\":2042900,\\\\\"1706245200000\\\\\":2286900,\\\\\"1706504400000\\\\\":2806600,\\\\\"1706590800000\\\\\":2392400,\\\\\"1706677200000\\\\\":3899000,\\\\\"1706763600000\\\\\":2833900,\\\\\"1706850000000\\\\\":4110400,\\\\\"1707109200000\\\\\":2972700,\\\\\"1707195600000\\\\\":3048900,\\\\\"1707282000000\\\\\":4515400,\\\\\"1707368400000\\\\\":18061200,\\\\\"1707454800000\\\\\":33191900,\\\\\"1707714000000\\\\\":10882800,\\\\\"1707800400000\\\\\":6886100,\\\\\"1707886800000\\\\\":4785400,\\\\\"1707973200000\\\\\":4765100,\\\\\"1708059600000\\\\\":4565000,\\\\\"1708405200000\\\\\":4310200,\\\\\"1708491600000\\\\\":4044300,\\\\\"1708578000000\\\\\":4066600,\\\\\"1708664400000\\\\\":2945900,\\\\\"1708923600000\\\\\":2866100,\\\\\"1709010000000\\\\\":3366900,\\\\\"1709096400000\\\\\":2525500,\\\\\"1709182800000\\\\\":5103400,\\\\\"1709269200000\\\\\":3819500,\\\\\"1709528400000\\\\\":4152400,\\\\\"1709614800000\\\\\":4958300,\\\\\"1709701200000\\\\\":2641400,\\\\\"1709787600000\\\\\":3937700,\\\\\"1709874000000\\\\\":4662100,\\\\\"1710129600000\\\\\":2620800,\\\\\"1710216000000\\\\\":2863100,\\\\\"1710302400000\\\\\":2280700,\\\\\"1710388800000\\\\\":3101600,\\\\\"1710475200000\\\\\":4052200,\\\\\"1710734400000\\\\\":3506100,\\\\\"1710820800000\\\\\":2230200,\\\\\"1710907200000\\\\\":2641400,\\\\\"1710993600000\\\\\":3028000,\\\\\"1711080000000\\\\\":1548300,\\\\\"1711339200000\\\\\":1374200,\\\\\"1711425600000\\\\\":3694200,\\\\\"1711512000000\\\\\":2899300,\\\\\"1711598400000\\\\\":1699400,\\\\\"1711944000000\\\\\":1950900,\\\\\"1712030400000\\\\\":2707200,\\\\\"1712116800000\\\\\":1963700,\\\\\"1712203200000\\\\\":2637900,\\\\\"1712289600000\\\\\":2738800,\\\\\"1712548800000\\\\\":1745600,\\\\\"1712635200000\\\\\":2055700,\\\\\"1712721600000\\\\\":2436900,\\\\\"1712808000000\\\\\":269459},\\\\\"Dividends\\\\\":{\\\\\"1704949200000\\\\\":0.0,\\\\\"1705035600000\\\\\":0.0,\\\\\"1705381200000\\\\\":0.0,\\\\\"1705467600000\\\\\":0.0,\\\\\"1705554000000\\\\\":0.0,\\\\\"1705640400000\\\\\":0.0,\\\\\"1705899600000\\\\\":0.0,\\\\\"1705986000000\\\\\":0.0,\\\\\"1706072400000\\\\\":0.0,\\\\\"1706158800000\\\\\":0.0,\\\\\"1706245200000\\\\\":0.0,\\\\\"1706504400000\\\\\":0.0,\\\\\"1706590800000\\\\\":0.0,\\\\\"1706677200000\\\\\":0.0,\\\\\"1706763600000\\\\\":0.0,\\\\\"1706850000000\\\\\":0.0,\\\\\"1707109200000\\\\\":0.0,\\\\\"1707195600000\\\\\":0.0,\\\\\"1707282000000\\\\\":0.0,\\\\\"1707368400000\\\\\":0.0,\\\\\"1707454800000\\\\\":0.0,\\\\\"1707714000000\\\\\":0.0,\\\\\"1707800400000\\\\\":0.0,\\\\\"1707886800000\\\\\":0.0,\\\\\"1707973200000\\\\\":0.0,\\\\\"1708059600000\\\\\":0.0,\\\\\"1708405200000\\\\\":0.0,\\\\\"1708491600000\\\\\":0.0,\\\\\"1708578000000\\\\\":0.0,\\\\\"1708664400000\\\\\":0.0,\\\\\"1708923600000\\\\\":0.0,\\\\\"1709010000000\\\\\":0.0,\\\\\"1709096400000\\\\\":0.0,\\\\\"1709182800000\\\\\":0.0,\\\\\"1709269200000\\\\\":0.0,\\\\\"1709528400000\\\\\":0.0,\\\\\"1709614800000\\\\\":0.0,\\\\\"1709701200000\\\\\":0.0,\\\\\"1709787600000\\\\\":0.0,\\\\\"1709874000000\\\\\":0.0,\\\\\"1710129600000\\\\\":0.0,\\\\\"1710216000000\\\\\":0.0,\\\\\"1710302400000\\\\\":0.0,\\\\\"1710388800000\\\\\":0.0,\\\\\"1710475200000\\\\\":0.0,\\\\\"1710734400000\\\\\":0.0,\\\\\"1710820800000\\\\\":0.0,\\\\\"1710907200000\\\\\":0.0,\\\\\"1710993600000\\\\\":0.0,\\\\\"1711080000000\\\\\":0.0,\\\\\"1711339200000\\\\\":0.0,\\\\\"1711425600000\\\\\":0.0,\\\\\"1711512000000\\\\\":0.0,\\\\\"1711598400000\\\\\":0.0,\\\\\"1711944000000\\\\\":0.0,\\\\\"1712030400000\\\\\":0.0,\\\\\"1712116800000\\\\\":0.0,\\\\\"1712203200000\\\\\":0.0,\\\\\"1712289600000\\\\\":0.0,\\\\\"1712548800000\\\\\":0.0,\\\\\"1712635200000\\\\\":0.0,\\\\\"1712721600000\\\\\":0.0,\\\\\"1712808000000\\\\\":0.0},\\\\\"Stock Splits\\\\\":{\\\\\"1704949200000\\\\\":0.0,\\\\\"1705035600000\\\\\":0.0,\\\\\"1705381200000\\\\\":0.0,\\\\\"1705467600000\\\\\":0.0,\\\\\"1705554000000\\\\\":0.0,\\\\\"1705640400000\\\\\":0.0,\\\\\"1705899600000\\\\\":0.0,\\\\\"1705986000000\\\\\":0.0,\\\\\"1706072400000\\\\\":0.0,\\\\\"1706158800000\\\\\":0.0,\\\\\"1706245200000\\\\\":0.0,\\\\\"1706504400000\\\\\":0.0,\\\\\"1706590800000\\\\\":0.0,\\\\\"1706677200000\\\\\":0.0,\\\\\"1706763600000\\\\\":0.0,\\\\\"1706850000000\\\\\":0.0,\\\\\"1707109200000\\\\\":0.0,\\\\\"1707195600000\\\\\":0.0,\\\\\"1707282000000\\\\\":0.0,\\\\\"1707368400000\\\\\":0.0,\\\\\"1707454800000\\\\\":0.0,\\\\\"1707714000000\\\\\":0.0,\\\\\"1707800400000\\\\\":0.0,\\\\\"1707886800000\\\\\":0.0,\\\\\"1707973200000\\\\\":0.0,\\\\\"1708059600000\\\\\":0.0,\\\\\"1708405200000\\\\\":0.0,\\\\\"1708491600000\\\\\":0.0,\\\\\"1708578000000\\\\\":0.0,\\\\\"1708664400000\\\\\":0.0,\\\\\"1708923600000\\\\\":0.0,\\\\\"1709010000000\\\\\":0.0,\\\\\"1709096400000\\\\\":0.0,\\\\\"1709182800000\\\\\":0.0,\\\\\"1709269200000\\\\\":0.0,\\\\\"1709528400000\\\\\":0.0,\\\\\"1709614800000\\\\\":0.0,\\\\\"1709701200000\\\\\":0.0,\\\\\"1709787600000\\\\\":0.0,\\\\\"1709874000000\\\\\":0.0,\\\\\"1710129600000\\\\\":0.0,\\\\\"1710216000000\\\\\":0.0,\\\\\"1710302400000\\\\\":0.0,\\\\\"1710388800000\\\\\":0.0,\\\\\"1710475200000\\\\\":0.0,\\\\\"1710734400000\\\\\":0.0,\\\\\"1710820800000\\\\\":0.0,\\\\\"1710907200000\\\\\":0.0,\\\\\"1710993600000\\\\\":0.0,\\\\\"1711080000000\\\\\":0.0,\\\\\"1711339200000\\\\\":0.0,\\\\\"1711425600000\\\\\":0.0,\\\\\"1711512000000\\\\\":0.0,\\\\\"1711598400000\\\\\":0.0,\\\\\"1711944000000\\\\\":0.0,\\\\\"1712030400000\\\\\":0.0,\\\\\"1712116800000\\\\\":0.0,\\\\\"1712203200000\\\\\":0.0,\\\\\"1712289600000\\\\\":0.0,\\\\\"1712548800000\\\\\":0.0,\\\\\"1712635200000\\\\\":0.0,\\\\\"1712721600000\\\\\":0.0,\\\\\"1712808000000\\\\\":0.0}}\"',\n",
       "  'tool_call_id': 'call_zXxiM8JIvu58eukfTWcDZlzn'}]"
      ]
     },
     "execution_count": 26,
     "metadata": {},
     "output_type": "execute_result"
    }
   ],
   "source": [
    "get_tool_outputs(run.id, thread.id)"
   ]
  },
  {
   "cell_type": "code",
   "execution_count": 27,
   "metadata": {},
   "outputs": [
    {
     "name": "stdout",
     "output_type": "stream",
     "text": [
      "Calling function: get_income_statement with arg {\"ticker\": \"NET\"}\n",
      "Calling function: get_balance_sheet with arg {\"ticker\": \"NET\"}\n",
      "Calling function: get_daily_stock_performance with arg {\"ticker\": \"NET\"}\n"
     ]
    },
    {
     "data": {
      "text/plain": [
       "Run(id='run_beFmhw6BsJirNXKhzf49OBPd', assistant_id='asst_HUHCXk0HEeHfarAzTKrt5f50', cancelled_at=None, completed_at=None, created_at=1712846719, expires_at=1712847319, failed_at=None, file_ids=[], instructions='You help users do research on publicly traded companies and you help users decide if they should buy the stock or not.', last_error=None, metadata={}, model='gpt-4-1106-preview', object='thread.run', required_action=None, started_at=1712846855, status='queued', thread_id='thread_9KczPqLkubVd9QifPKIBVusi', tools=[FunctionTool(function=FunctionDefinition(name='get_ticker', description='Given the name of a company returns its ticker symbol', parameters={'type': 'object', 'properties': {'company_name': {'type': 'string', 'description': 'The name of the company'}}, 'required': ['company_name']}), type='function'), FunctionTool(function=FunctionDefinition(name='get_income_statement', description=\"Given a ticker symbol (i.e AAPL) returns the company's income statement.\", parameters={'type': 'object', 'properties': {'ticker': {'type': 'string', 'description': 'Ticker symbol of the company'}}, 'required': ['ticker']}), type='function'), FunctionTool(function=FunctionDefinition(name='get_balance_sheet', description=\"Given a ticker symbol (i.e AAPL) returns the company's balance sheet.\", parameters={'type': 'object', 'properties': {'ticker': {'type': 'string', 'description': 'Ticker symbol of the company'}}, 'required': ['ticker']}), type='function'), FunctionTool(function=FunctionDefinition(name='get_daily_stock_performance', description='Given a ticker symbol (i.e AAPL) returns the performance of the stock for the last 100 days.', parameters={'type': 'object', 'properties': {'ticker': {'type': 'string', 'description': 'Ticker symbol of the company'}}, 'required': ['ticker']}), type='function')], usage=None, temperature=1.0)"
      ]
     },
     "execution_count": 27,
     "metadata": {},
     "output_type": "execute_result"
    }
   ],
   "source": [
    "submit_tool_outputs(run.id, thread.id)"
   ]
  },
  {
   "cell_type": "code",
   "execution_count": 29,
   "metadata": {},
   "outputs": [
    {
     "data": {
      "text/plain": [
       "'completed'"
      ]
     },
     "execution_count": 29,
     "metadata": {},
     "output_type": "execute_result"
    }
   ],
   "source": [
    "get_run(run.id, thread.id).status"
   ]
  },
  {
   "cell_type": "code",
   "execution_count": 30,
   "metadata": {},
   "outputs": [
    {
     "name": "stdout",
     "output_type": "stream",
     "text": [
      "user: I want to know if the Salesforce stock is a good buy\n",
      "assistant: I have gathered some fundamental and recent stock performance data on Salesforce (CRM) to help assess whether it may be a good buy. Please remember that investment decisions should take into account a variety of factors, including your individual circumstances, investment goals, and risk tolerance. Here is the data:\n",
      "\n",
      "Income Statement Highlights (most recent data):\n",
      "- Total Revenue: \\$34.857 billion\n",
      "- Net Income: \\$4.136 billion\n",
      "- Gross Profit: \\$26.316 billion\n",
      "- Research & Development: \\$4.906 billion\n",
      "- Selling, General & Administrative: \\$14.52 billion\n",
      "\n",
      "Balance Sheet Highlights (most recent data):\n",
      "- Total Assets: \\$99.823 billion\n",
      "- Total Liabilities: \\$40.177 billion\n",
      "- Total Equity: \\$59.646 billion\n",
      "- Total Debt: \\$12.588 billion\n",
      "- Working Capital: \\$2.443 billion\n",
      "\n",
      "Stock Performance Over the Last 100 Days:\n",
      "- The stock has seen fluctuations with highs and lows, like most stocks in the market. Overall, without exact percentage changes, it's difficult to determine the trend from the provided data.\n",
      "\n",
      "Based on this information, you might consider the following:\n",
      "1. **Revenue and Profitability**: Salesforce is generating significant revenue and net income. This suggests a healthy business model with the potential for further growth.\n",
      "\n",
      "2. **Balance Sheet Strength**: The company's assets greatly outweigh its liabilities, and it has a substantial equity base, which indicates robust financial health.\n",
      "\n",
      "3. **Debt Levels**: Salesforce has a moderate level of debt relative to its equity. It's essential to consider the cost of this debt and the company's ability to service it.\n",
      "\n",
      "4. **Research, Development, and SG&A Expenses**: Salesforce is investing heavily in R&D and has substantial sales, general, and administrative expenses. These investments could drive future growth but also represent substantial recurring costs.\n",
      "\n",
      "5. **Stock Performance**: It's important to review the stock's performance trend for insights on market sentiment and potential volatility.\n",
      "\n",
      "Remember that good investment decisions should be based on a comprehensive analysis that includes not only these highlights but also other qualitative factors, market trends, competitor performance, and broader economic indicators. If necessary, consider consulting with a financial advisor for personalized advice tailored to your specific situation before making any investment decisions.\n",
      "user: Now I want to know if the Cloudflare is a good buy.\n",
      "assistant: Here's the fundamental and recent stock performance data for Cloudflare (NET) to help assess whether it might be a good buy:\n",
      "\n",
      "Income Statement Highlights (most recent data):\n",
      "- Total Revenue: \\$1.297 billion\n",
      "- Net Income: -\\$183.949 million\n",
      "- Gross Profit: \\$989.74 million\n",
      "- Research & Development: \\$358.143 million\n",
      "- Selling General & Administrative: \\$817.082 million\n",
      "\n",
      "Balance Sheet Highlights (most recent data):\n",
      "- Total Assets: \\$2.76 billion\n",
      "- Total Liabilities: \\$1.997 billion\n",
      "- Total Equity: \\$763.047 million\n",
      "- Total Debt: \\$1.435 billion\n",
      "- Working Capital: \\$1.416 billion\n",
      "\n",
      "Stock Performance Over the Last 100 Days:\n",
      "- The stock has experienced fluctuations with both highs and lows. The actual stock price movement cannot be deduced from the given data without percentage change information.\n",
      "\n",
      "Based on this information, consider the following for Cloudflare:\n",
      "1. **Revenue Growth**: Cloudflare is experiencing revenue growth, which may indicate expanding business operations and market penetration.\n",
      "\n",
      "2. **Profitability Challenges**: The company is currently not profitable, which is not uncommon for growth-focused tech companies. It's important to consider their path to profitability.\n",
      "\n",
      "3. **Investment in Growth**: The significant investment in research and development shows a dedication to innovation and future growth.\n",
      "\n",
      "4. **Balance Sheet Strength**: Cloudflare has a solid working capital position and a reasonable total debt level relative to equity.\n",
      "\n",
      "5. **Stock Performance**: Investigate the stock's performance trend for insights on market sentiment, which can influence the decision to buy at current levels.\n",
      "\n",
      "Remember to also consider the competitive landscape, the overall condition of the tech sector, and macroeconomic factors. If necessary, consult with a financial advisor for a thorough analysis before making any investment decisions.\n"
     ]
    }
   ],
   "source": [
    "get_messages(thread.id)"
   ]
  },
  {
   "cell_type": "code",
   "execution_count": null,
   "metadata": {},
   "outputs": [],
   "source": []
  }
 ],
 "metadata": {
  "kernelspec": {
   "display_name": "env",
   "language": "python",
   "name": "python3"
  },
  "language_info": {
   "codemirror_mode": {
    "name": "ipython",
    "version": 3
   },
   "file_extension": ".py",
   "mimetype": "text/x-python",
   "name": "python",
   "nbconvert_exporter": "python",
   "pygments_lexer": "ipython3",
   "version": "3.11.7"
  }
 },
 "nbformat": 4,
 "nbformat_minor": 2
}
