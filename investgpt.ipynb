{
 "cells": [
  {
   "cell_type": "code",
   "execution_count": 2,
   "metadata": {},
   "outputs": [
    {
     "name": "stdout",
     "output_type": "stream",
     "text": [
      "\n",
      "\n",
      "\u001b[1m> Entering new AgentExecutor chain...\u001b[0m\n",
      "\u001b[32;1m\u001b[1;3mThought: I need to sum all these numbers to find the total cost. I will start by summing the first two numbers and continue adding the rest one by one.\n",
      "\n",
      "Action: Sum Calculator\n",
      "Action Input: 355.39, 924.87\u001b[0m\n",
      "Observation: \u001b[36;1m\u001b[1;3m1280.26\u001b[0m\n",
      "Thought:\u001b[32;1m\u001b[1;3mI have the sum of the first two numbers. Now I will add the next number to this sum.\n",
      "\n",
      "Action: Sum Calculator\n",
      "Action Input: 1280.26, 721.2\u001b[0m\n",
      "Observation: \u001b[36;1m\u001b[1;3m2001.46\u001b[0m\n",
      "Thought:\u001b[32;1m\u001b[1;3mI have the sum of the first three numbers. Now I will add the next number to this sum.\n",
      "\n",
      "Action: Sum Calculator\n",
      "Action Input: 2001.46, 1940.29\u001b[0m\n",
      "Observation: \u001b[36;1m\u001b[1;3m3941.75\u001b[0m\n",
      "Thought:\u001b[32;1m\u001b[1;3mI have the sum of the first four numbers. Now I will add the next number to this sum.\n",
      "\n",
      "Action: Sum Calculator\n",
      "Action Input: 3941.75, 573.63\u001b[0m\n",
      "Observation: \u001b[36;1m\u001b[1;3m4515.38\u001b[0m\n",
      "Thought:\u001b[32;1m\u001b[1;3mI have the sum of the first five numbers. Now I will add the next number to this sum.\n",
      "\n",
      "Action: Sum Calculator\n",
      "Action Input: 4515.38, 65.72\u001b[0m\n",
      "Observation: \u001b[36;1m\u001b[1;3m4581.1\u001b[0m\n",
      "Thought:\u001b[32;1m\u001b[1;3mI have the sum of the first six numbers. Now I will add the next number to this sum.\n",
      "\n",
      "Action: Sum Calculator\n",
      "Action Input: 4581.1, 35.00\u001b[0m\n",
      "Observation: \u001b[36;1m\u001b[1;3m4616.1\u001b[0m\n",
      "Thought:\u001b[32;1m\u001b[1;3mI have the sum of the first seven numbers. Now I will add the next number to this sum.\n",
      "\n",
      "Action: Sum Calculator\n",
      "Action Input: 4616.1, 552.00\u001b[0m\n",
      "Observation: \u001b[36;1m\u001b[1;3m5168.1\u001b[0m\n",
      "Thought:\u001b[32;1m\u001b[1;3mI have the sum of the first eight numbers. Now I will add the next number to this sum.\n",
      "\n",
      "Action: Sum Calculator\n",
      "Action Input: 5168.1, 76.16\u001b[0m\n",
      "Observation: \u001b[36;1m\u001b[1;3m5244.26\u001b[0m\n",
      "Thought:\u001b[32;1m\u001b[1;3mI have the sum of the first nine numbers. Now I will add the last number to this sum.\n",
      "\n",
      "Action: Sum Calculator\n",
      "Action Input: 5244.26, 29.12\u001b[0m\n",
      "Observation: \u001b[36;1m\u001b[1;3m5273.38\u001b[0m\n",
      "Thought:\u001b[32;1m\u001b[1;3mI now know the final answer\n",
      "\n",
      "Final Answer: $5273.38\u001b[0m\n",
      "\n",
      "\u001b[1m> Finished chain.\u001b[0m\n"
     ]
    },
    {
     "data": {
      "text/plain": [
       "{'input': 'Cost of $355.39 + $924.87 + $721.2 + $1940.29 + $573.63 + $65.72 + $35.00 + $552.00 + $76.16 + $29.12',\n",
       " 'output': '$5273.38'}"
      ]
     },
     "execution_count": 2,
     "metadata": {},
     "output_type": "execute_result"
    }
   ],
   "source": [
    "from langchain.chat_models import ChatOpenAI\n",
    "from langchain.agents import initialize_agent, AgentType\n",
    "from langchain.tools import StructuredTool, Tool\n",
    "\n",
    "# 3.5는 결과가 틀림\n",
    "llm = ChatOpenAI(model=\"gpt-4-turbo\", temperature=0.1)\n",
    "\n",
    "# 하나의 input만 받기 때문에 문자열을 split 하고, 이걸 description에 설명해줌.\n",
    "def plus(inputs):\n",
    "    a, b = inputs.split(\",\")\n",
    "    return float(a) + float(b)\n",
    "\n",
    "\"\"\"\n",
    "agent에 input을 줄 때 runtime은 LLM으로 부터 get_action을 호출해서 LLM이 선택한 Tool을 돌림\n",
    "AgentFinish가 될떄까지 loop를 돌리기 떄문에 Cost가 많이 나올 수 있음.\n",
    "가끔 LLM이 Json이 아닌 Text로 답할 때가 있음. 그러땐 Agent가 에러가 남\n",
    "\"\"\"\n",
    "# llm, tool, agent를 전달해야 함.\n",
    "agent = initialize_agent(\n",
    "    llm=llm,\n",
    "    verbose=True,\n",
    "    agent=AgentType.ZERO_SHOT_REACT_DESCRIPTION, # 하나의 Input을 가진 tool을 invoke 하는 agent\n",
    "    handle_parsing_errors=True, # LLM의 output 때문에 Parsing Error가 발생하면 이를 수정하려고 함.\n",
    "    tools=[\n",
    "        # 함수와 그에 대한 설명을 전달\n",
    "        Tool.from_function(\n",
    "            func=plus,\n",
    "            name=\"Sum Calculator\",\n",
    "            description=\"Use this to perform sums of two numbers. Use this tool by sending a pair of number separated by a comma.\\nExample:1,2\",\n",
    "        ),\n",
    "    ],\n",
    ")\n",
    "\n",
    "\n",
    "# LLM은 산수를 직접 할 수 없음\n",
    "prompt = \"Cost of $355.39 + $924.87 + $721.2 + $1940.29 + $573.63 + $65.72 + $35.00 + $552.00 + $76.16 + $29.12\" # $5,273.38\n",
    "\n",
    "# LangChain이 tool을 포함한 prompt를 만들어서 LLM에 전달함.\n",
    "agent.invoke(prompt) # $4923.38"
   ]
  },
  {
   "cell_type": "code",
   "execution_count": null,
   "metadata": {},
   "outputs": [],
   "source": []
  }
 ],
 "metadata": {
  "kernelspec": {
   "display_name": "env",
   "language": "python",
   "name": "python3"
  },
  "language_info": {
   "codemirror_mode": {
    "name": "ipython",
    "version": 3
   },
   "file_extension": ".py",
   "mimetype": "text/x-python",
   "name": "python",
   "nbconvert_exporter": "python",
   "pygments_lexer": "ipython3",
   "version": "3.11.7"
  }
 },
 "nbformat": 4,
 "nbformat_minor": 2
}
