{
 "cells": [
  {
   "cell_type": "code",
   "execution_count": 2,
   "metadata": {},
   "outputs": [
    {
     "name": "stdout",
     "output_type": "stream",
     "text": [
      "\n",
      "\n",
      "\u001b[1m> Entering new AgentExecutor chain...\u001b[0m\n",
      "\u001b[32;1m\u001b[1;3m\n",
      "Invoking: `StockMarketSymbolSearchTool` with `{'query': 'Cloudflare stock'}`\n",
      "\n",
      "\n",
      "\u001b[0m\u001b[36;1m\u001b[1;3m[snippet: Stock analysis for Cloudflare Inc (NET:New York) including stock price, stock chart, company news, key statistics, fundamentals and company profile., title: NET: Cloudflare Inc Stock Price Quote - New York - Bloomberg, link: https://www.bloomberg.com/quote/NET:US], [snippet: Cloudflare (NYSE:NET) Founded by two grad students of Harvard Business School, Cloudflare (NYSE:NET) is a software as a service platform that helps improve security, reliability and loading times ..., title: Winners And Losers Of Q4: Cloudflare (NYSE:NET) Vs The Rest Of The ..., link: https://finance.yahoo.com/news/winners-losers-q4-cloudflare-nyse-084627560.html], [snippet: At Cloudflare, Inc., we promise to treat your data with respect and will not share your information with any third party. You can unsubscribe to any of the investor alerts you are subscribed to by visiting the 'unsubscribe' section below. If you experience any issues with this process, please contact us for further assistance., title: Cloudflare, Inc. - Stock Quote & Chart, link: https://cloudflare.net/stock-information/Stock-Quote--Chart/default.aspx], [snippet: Get the latest information on Cloudflare, Inc. (NET), a cloud services provider that delivers security and performance solutions. See the stock price, financial performance, analyst forecast, news, and more., title: Cloudflare, Inc. (NET) Stock Price, Quote & News - Stock Analysis, link: https://stockanalysis.com/stocks/net/]\u001b[0m\u001b[32;1m\u001b[1;3mCloudflare's stock symbol is NET and it is listed on the New York Stock Exchange (NYSE). \n",
      "\n",
      "To analyze if Cloudflare is a potential good investment, we can look at various factors such as the company's financial performance, growth prospects, competitive position, and market trends. \n",
      "\n",
      "Here are some resources where you can find more information on Cloudflare's stock:\n",
      "1. [Bloomberg - Cloudflare Inc Stock Price Quote](https://www.bloomberg.com/quote/NET:US)\n",
      "2. [Yahoo Finance - Cloudflare (NYSE:NET)](https://finance.yahoo.com/news/winners-losers-q4-cloudflare-nyse-084627560.html)\n",
      "3. [Cloudflare, Inc. - Stock Quote & Chart](https://cloudflare.net/stock-information/Stock-Quote--Chart/default.aspx)\n",
      "4. [Stock Analysis - Cloudflare, Inc. (NET) Stock Price, Quote & News](https://stockanalysis.com/stocks/net/)\n",
      "\n",
      "I recommend conducting a thorough analysis of Cloudflare's financials, market position, and growth potential before making an investment decision.\u001b[0m\n",
      "\n",
      "\u001b[1m> Finished chain.\u001b[0m\n"
     ]
    },
    {
     "data": {
      "text/plain": [
       "{'input': \"Give me information on Cloudflare's stock and help me analyze if it's a potential good investment. Also tell me what symbol does the stock have.\",\n",
       " 'output': \"Cloudflare's stock symbol is NET and it is listed on the New York Stock Exchange (NYSE). \\n\\nTo analyze if Cloudflare is a potential good investment, we can look at various factors such as the company's financial performance, growth prospects, competitive position, and market trends. \\n\\nHere are some resources where you can find more information on Cloudflare's stock:\\n1. [Bloomberg - Cloudflare Inc Stock Price Quote](https://www.bloomberg.com/quote/NET:US)\\n2. [Yahoo Finance - Cloudflare (NYSE:NET)](https://finance.yahoo.com/news/winners-losers-q4-cloudflare-nyse-084627560.html)\\n3. [Cloudflare, Inc. - Stock Quote & Chart](https://cloudflare.net/stock-information/Stock-Quote--Chart/default.aspx)\\n4. [Stock Analysis - Cloudflare, Inc. (NET) Stock Price, Quote & News](https://stockanalysis.com/stocks/net/)\\n\\nI recommend conducting a thorough analysis of Cloudflare's financials, market position, and growth potential before making an investment decision.\"}"
      ]
     },
     "execution_count": 2,
     "metadata": {},
     "output_type": "execute_result"
    }
   ],
   "source": [
    "from typing import Any, Type\n",
    "\n",
    "from langchain.chat_models import ChatOpenAI\n",
    "from langchain.agents import initialize_agent, AgentType\n",
    "from langchain.tools import BaseTool\n",
    "from pydantic import BaseModel, Field\n",
    "from langchain.tools import DuckDuckGoSearchResults\n",
    "\n",
    "# 3.5는 결과가 틀림\n",
    "llm = ChatOpenAI(temperature=0.1)\n",
    "\n",
    "\n",
    "class StockMarketSymbolSearchToolArgsSchema(BaseModel):\n",
    "    query: str = Field(\n",
    "        description=\"The query you will search for.Example query: Stock Market Symbol for Apple Company\"\n",
    "    )\n",
    "\n",
    "\n",
    "class StockMarketSymbolSearchTool(BaseTool):\n",
    "    name = \"StockMarketSymbolSearchTool\"\n",
    "    description = \"\"\"\n",
    "    Use this tool to find the stock market symbol for a company.\n",
    "    It takes a query as an argument.\n",
    "    \n",
    "    \"\"\"\n",
    "    args_schema: Type[\n",
    "        StockMarketSymbolSearchToolArgsSchema\n",
    "    ] = StockMarketSymbolSearchToolArgsSchema\n",
    "\n",
    "    def _run(self, query):\n",
    "        # Web Search API\n",
    "        # brew install ddgr\n",
    "        ddg = DuckDuckGoSearchResults()\n",
    "        return ddg.run(query)\n",
    "\n",
    "\n",
    "\"\"\"\n",
    "agent에 input을 줄 때 runtime은 LLM으로 부터 get_action을 호출해서 LLM이 선택한 Tool을 돌림\n",
    "AgentFinish가 될떄까지 loop를 돌리기 떄문에 Cost가 많이 나올 수 있음.\n",
    "가끔 LLM이 Json이 아닌 Text로 답할 때가 있음. 그러땐 Agent가 에러가 남\n",
    "\"\"\"\n",
    "# llm, tool, agent를 전달해야 함.\n",
    "agent = initialize_agent(\n",
    "    llm=llm,\n",
    "    verbose=True,\n",
    "    agent=AgentType.OPENAI_FUNCTIONS, # OpenAI Agent\n",
    "    handle_parsing_errors=True, # LLM의 output 때문에 Parsing Error가 발생하면 이를 수정하려고 함.\n",
    "    tools=[\n",
    "        StockMarketSymbolSearchTool(),\n",
    "    ],\n",
    ")\n",
    "\n",
    "\n",
    "prompt = \"Give me information on Cloudflare's stock and help me analyze if it's a potential good investment. Also tell me what symbol does the stock have.\"\n",
    "\n",
    "agent.invoke(prompt)"
   ]
  }
 ],
 "metadata": {
  "kernelspec": {
   "display_name": "env",
   "language": "python",
   "name": "python3"
  },
  "language_info": {
   "codemirror_mode": {
    "name": "ipython",
    "version": 3
   },
   "file_extension": ".py",
   "mimetype": "text/x-python",
   "name": "python",
   "nbconvert_exporter": "python",
   "pygments_lexer": "ipython3",
   "version": "3.11.7"
  }
 },
 "nbformat": 4,
 "nbformat_minor": 2
}
